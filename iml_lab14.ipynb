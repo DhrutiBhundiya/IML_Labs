{
 "cells": [
  {
   "cell_type": "code",
   "execution_count": 1,
   "id": "3b049520",
   "metadata": {
    "execution": {
     "iopub.execute_input": "2023-11-06T06:03:24.267735Z",
     "iopub.status.busy": "2023-11-06T06:03:24.266983Z",
     "iopub.status.idle": "2023-11-06T06:03:25.119422Z",
     "shell.execute_reply": "2023-11-06T06:03:25.118264Z"
    },
    "papermill": {
     "duration": 0.876453,
     "end_time": "2023-11-06T06:03:25.122623",
     "exception": false,
     "start_time": "2023-11-06T06:03:24.246170",
     "status": "completed"
    },
    "tags": []
   },
   "outputs": [
    {
     "data": {
      "text/html": [
       "<div>\n",
       "<style scoped>\n",
       "    .dataframe tbody tr th:only-of-type {\n",
       "        vertical-align: middle;\n",
       "    }\n",
       "\n",
       "    .dataframe tbody tr th {\n",
       "        vertical-align: top;\n",
       "    }\n",
       "\n",
       "    .dataframe thead th {\n",
       "        text-align: right;\n",
       "    }\n",
       "</style>\n",
       "<table border=\"1\" class=\"dataframe\">\n",
       "  <thead>\n",
       "    <tr style=\"text-align: right;\">\n",
       "      <th></th>\n",
       "      <th>company</th>\n",
       "      <th>price_rupiah</th>\n",
       "      <th>diameter</th>\n",
       "      <th>topping</th>\n",
       "      <th>variant</th>\n",
       "      <th>size</th>\n",
       "      <th>extra_sauce</th>\n",
       "      <th>extra_cheese</th>\n",
       "      <th>extra_mushrooms</th>\n",
       "    </tr>\n",
       "  </thead>\n",
       "  <tbody>\n",
       "    <tr>\n",
       "      <th>0</th>\n",
       "      <td>A</td>\n",
       "      <td>Rp235,000</td>\n",
       "      <td>22 inch</td>\n",
       "      <td>chicken</td>\n",
       "      <td>double_signature</td>\n",
       "      <td>jumbo</td>\n",
       "      <td>yes</td>\n",
       "      <td>yes</td>\n",
       "      <td>no</td>\n",
       "    </tr>\n",
       "    <tr>\n",
       "      <th>1</th>\n",
       "      <td>A</td>\n",
       "      <td>Rp198,000</td>\n",
       "      <td>20 inch</td>\n",
       "      <td>papperoni</td>\n",
       "      <td>double_signature</td>\n",
       "      <td>jumbo</td>\n",
       "      <td>yes</td>\n",
       "      <td>yes</td>\n",
       "      <td>no</td>\n",
       "    </tr>\n",
       "    <tr>\n",
       "      <th>2</th>\n",
       "      <td>A</td>\n",
       "      <td>Rp120,000</td>\n",
       "      <td>16 inch</td>\n",
       "      <td>mushrooms</td>\n",
       "      <td>double_signature</td>\n",
       "      <td>reguler</td>\n",
       "      <td>yes</td>\n",
       "      <td>yes</td>\n",
       "      <td>yes</td>\n",
       "    </tr>\n",
       "    <tr>\n",
       "      <th>3</th>\n",
       "      <td>A</td>\n",
       "      <td>Rp155,000</td>\n",
       "      <td>14 inch</td>\n",
       "      <td>smoked_beef</td>\n",
       "      <td>double_signature</td>\n",
       "      <td>reguler</td>\n",
       "      <td>yes</td>\n",
       "      <td>no</td>\n",
       "      <td>yes</td>\n",
       "    </tr>\n",
       "    <tr>\n",
       "      <th>4</th>\n",
       "      <td>A</td>\n",
       "      <td>Rp248,000</td>\n",
       "      <td>18 inch</td>\n",
       "      <td>mozzarella</td>\n",
       "      <td>double_signature</td>\n",
       "      <td>jumbo</td>\n",
       "      <td>yes</td>\n",
       "      <td>no</td>\n",
       "      <td>yes</td>\n",
       "    </tr>\n",
       "  </tbody>\n",
       "</table>\n",
       "</div>"
      ],
      "text/plain": [
       "  company price_rupiah diameter      topping           variant     size  \\\n",
       "0       A    Rp235,000  22 inch      chicken  double_signature    jumbo   \n",
       "1       A    Rp198,000  20 inch    papperoni  double_signature    jumbo   \n",
       "2       A    Rp120,000  16 inch    mushrooms  double_signature  reguler   \n",
       "3       A    Rp155,000  14 inch  smoked_beef  double_signature  reguler   \n",
       "4       A    Rp248,000  18 inch   mozzarella  double_signature    jumbo   \n",
       "\n",
       "  extra_sauce extra_cheese extra_mushrooms  \n",
       "0         yes          yes              no  \n",
       "1         yes          yes              no  \n",
       "2         yes          yes             yes  \n",
       "3         yes           no             yes  \n",
       "4         yes           no             yes  "
      ]
     },
     "execution_count": 1,
     "metadata": {},
     "output_type": "execute_result"
    }
   ],
   "source": [
    "import pandas as pd \n",
    "\n",
    "data=pd.read_csv('/kaggle/input/pizza-price-prediction/pizza_v2.csv')\n",
    "data.head()\n",
    "#top five rows display"
   ]
  },
  {
   "cell_type": "code",
   "execution_count": 2,
   "id": "8a0a1b8b",
   "metadata": {
    "execution": {
     "iopub.execute_input": "2023-11-06T06:03:25.162685Z",
     "iopub.status.busy": "2023-11-06T06:03:25.162287Z",
     "iopub.status.idle": "2023-11-06T06:03:25.178320Z",
     "shell.execute_reply": "2023-11-06T06:03:25.177014Z"
    },
    "papermill": {
     "duration": 0.039055,
     "end_time": "2023-11-06T06:03:25.180807",
     "exception": false,
     "start_time": "2023-11-06T06:03:25.141752",
     "status": "completed"
    },
    "tags": []
   },
   "outputs": [
    {
     "data": {
      "text/html": [
       "<div>\n",
       "<style scoped>\n",
       "    .dataframe tbody tr th:only-of-type {\n",
       "        vertical-align: middle;\n",
       "    }\n",
       "\n",
       "    .dataframe tbody tr th {\n",
       "        vertical-align: top;\n",
       "    }\n",
       "\n",
       "    .dataframe thead th {\n",
       "        text-align: right;\n",
       "    }\n",
       "</style>\n",
       "<table border=\"1\" class=\"dataframe\">\n",
       "  <thead>\n",
       "    <tr style=\"text-align: right;\">\n",
       "      <th></th>\n",
       "      <th>company</th>\n",
       "      <th>price_rupiah</th>\n",
       "      <th>diameter</th>\n",
       "      <th>topping</th>\n",
       "      <th>variant</th>\n",
       "      <th>size</th>\n",
       "      <th>extra_sauce</th>\n",
       "      <th>extra_cheese</th>\n",
       "      <th>extra_mushrooms</th>\n",
       "    </tr>\n",
       "  </thead>\n",
       "  <tbody>\n",
       "    <tr>\n",
       "      <th>124</th>\n",
       "      <td>E</td>\n",
       "      <td>Rp39,000</td>\n",
       "      <td>8.5 inch</td>\n",
       "      <td>tuna</td>\n",
       "      <td>spicy tuna</td>\n",
       "      <td>small</td>\n",
       "      <td>yes</td>\n",
       "      <td>yes</td>\n",
       "      <td>yes</td>\n",
       "    </tr>\n",
       "    <tr>\n",
       "      <th>125</th>\n",
       "      <td>E</td>\n",
       "      <td>Rp72,000</td>\n",
       "      <td>12 inch</td>\n",
       "      <td>tuna</td>\n",
       "      <td>spicy tuna</td>\n",
       "      <td>medium</td>\n",
       "      <td>yes</td>\n",
       "      <td>yes</td>\n",
       "      <td>yes</td>\n",
       "    </tr>\n",
       "    <tr>\n",
       "      <th>126</th>\n",
       "      <td>E</td>\n",
       "      <td>Rp99,000</td>\n",
       "      <td>14 inch</td>\n",
       "      <td>tuna</td>\n",
       "      <td>spicy tuna</td>\n",
       "      <td>large</td>\n",
       "      <td>yes</td>\n",
       "      <td>yes</td>\n",
       "      <td>yes</td>\n",
       "    </tr>\n",
       "    <tr>\n",
       "      <th>127</th>\n",
       "      <td>E</td>\n",
       "      <td>Rp44,000</td>\n",
       "      <td>8.5 inch</td>\n",
       "      <td>meat</td>\n",
       "      <td>BBQ_meat_fiesta</td>\n",
       "      <td>small</td>\n",
       "      <td>yes</td>\n",
       "      <td>no</td>\n",
       "      <td>yes</td>\n",
       "    </tr>\n",
       "    <tr>\n",
       "      <th>128</th>\n",
       "      <td>E</td>\n",
       "      <td>Rp78,000</td>\n",
       "      <td>12 inch</td>\n",
       "      <td>meat</td>\n",
       "      <td>BBQ_meat_fiesta</td>\n",
       "      <td>medium</td>\n",
       "      <td>no</td>\n",
       "      <td>no</td>\n",
       "      <td>yes</td>\n",
       "    </tr>\n",
       "  </tbody>\n",
       "</table>\n",
       "</div>"
      ],
      "text/plain": [
       "    company price_rupiah  diameter topping          variant    size  \\\n",
       "124       E     Rp39,000  8.5 inch    tuna       spicy tuna   small   \n",
       "125       E     Rp72,000   12 inch    tuna       spicy tuna  medium   \n",
       "126       E     Rp99,000   14 inch    tuna       spicy tuna   large   \n",
       "127       E     Rp44,000  8.5 inch    meat  BBQ_meat_fiesta   small   \n",
       "128       E     Rp78,000   12 inch    meat  BBQ_meat_fiesta  medium   \n",
       "\n",
       "    extra_sauce extra_cheese extra_mushrooms  \n",
       "124         yes          yes             yes  \n",
       "125         yes          yes             yes  \n",
       "126         yes          yes             yes  \n",
       "127         yes           no             yes  \n",
       "128          no           no             yes  "
      ]
     },
     "execution_count": 2,
     "metadata": {},
     "output_type": "execute_result"
    }
   ],
   "source": [
    "data.tail() \n",
    "#last five row display"
   ]
  },
  {
   "cell_type": "code",
   "execution_count": 3,
   "id": "a864f130",
   "metadata": {
    "execution": {
     "iopub.execute_input": "2023-11-06T06:03:25.221303Z",
     "iopub.status.busy": "2023-11-06T06:03:25.220875Z",
     "iopub.status.idle": "2023-11-06T06:03:25.227529Z",
     "shell.execute_reply": "2023-11-06T06:03:25.226421Z"
    },
    "papermill": {
     "duration": 0.029718,
     "end_time": "2023-11-06T06:03:25.229933",
     "exception": false,
     "start_time": "2023-11-06T06:03:25.200215",
     "status": "completed"
    },
    "tags": []
   },
   "outputs": [
    {
     "name": "stdout",
     "output_type": "stream",
     "text": [
      "Number Of Rows 129\n",
      "Number Of Columns 9\n"
     ]
    }
   ],
   "source": [
    "#find shape of our dataset \n",
    "data.shape\n",
    "print(\"Number Of Rows\",data.shape[0])\n",
    "print(\"Number Of Columns\",data.shape[1])"
   ]
  },
  {
   "cell_type": "code",
   "execution_count": 4,
   "id": "88ad0a7a",
   "metadata": {
    "execution": {
     "iopub.execute_input": "2023-11-06T06:03:25.270156Z",
     "iopub.status.busy": "2023-11-06T06:03:25.269689Z",
     "iopub.status.idle": "2023-11-06T06:03:25.298404Z",
     "shell.execute_reply": "2023-11-06T06:03:25.296525Z"
    },
    "papermill": {
     "duration": 0.051849,
     "end_time": "2023-11-06T06:03:25.300957",
     "exception": false,
     "start_time": "2023-11-06T06:03:25.249108",
     "status": "completed"
    },
    "tags": []
   },
   "outputs": [
    {
     "name": "stdout",
     "output_type": "stream",
     "text": [
      "<class 'pandas.core.frame.DataFrame'>\n",
      "RangeIndex: 129 entries, 0 to 128\n",
      "Data columns (total 9 columns):\n",
      " #   Column           Non-Null Count  Dtype \n",
      "---  ------           --------------  ----- \n",
      " 0   company          129 non-null    object\n",
      " 1   price_rupiah     129 non-null    object\n",
      " 2   diameter         129 non-null    object\n",
      " 3   topping          129 non-null    object\n",
      " 4   variant          129 non-null    object\n",
      " 5   size             129 non-null    object\n",
      " 6   extra_sauce      129 non-null    object\n",
      " 7   extra_cheese     129 non-null    object\n",
      " 8   extra_mushrooms  129 non-null    object\n",
      "dtypes: object(9)\n",
      "memory usage: 9.2+ KB\n"
     ]
    }
   ],
   "source": [
    "#get informantion about our dataset \n",
    "data.info()"
   ]
  },
  {
   "cell_type": "code",
   "execution_count": 5,
   "id": "ea5809dc",
   "metadata": {
    "execution": {
     "iopub.execute_input": "2023-11-06T06:03:25.342360Z",
     "iopub.status.busy": "2023-11-06T06:03:25.341940Z",
     "iopub.status.idle": "2023-11-06T06:03:25.351362Z",
     "shell.execute_reply": "2023-11-06T06:03:25.350172Z"
    },
    "papermill": {
     "duration": 0.033335,
     "end_time": "2023-11-06T06:03:25.354009",
     "exception": false,
     "start_time": "2023-11-06T06:03:25.320674",
     "status": "completed"
    },
    "tags": []
   },
   "outputs": [
    {
     "data": {
      "text/plain": [
       "company            0\n",
       "price_rupiah       0\n",
       "diameter           0\n",
       "topping            0\n",
       "variant            0\n",
       "size               0\n",
       "extra_sauce        0\n",
       "extra_cheese       0\n",
       "extra_mushrooms    0\n",
       "dtype: int64"
      ]
     },
     "execution_count": 5,
     "metadata": {},
     "output_type": "execute_result"
    }
   ],
   "source": [
    "#check null values \n",
    "data.isnull().sum()"
   ]
  },
  {
   "cell_type": "code",
   "execution_count": 6,
   "id": "0cc4e0ca",
   "metadata": {
    "execution": {
     "iopub.execute_input": "2023-11-06T06:03:25.394961Z",
     "iopub.status.busy": "2023-11-06T06:03:25.394562Z",
     "iopub.status.idle": "2023-11-06T06:03:25.423136Z",
     "shell.execute_reply": "2023-11-06T06:03:25.421858Z"
    },
    "papermill": {
     "duration": 0.052268,
     "end_time": "2023-11-06T06:03:25.425852",
     "exception": false,
     "start_time": "2023-11-06T06:03:25.373584",
     "status": "completed"
    },
    "tags": []
   },
   "outputs": [
    {
     "data": {
      "text/html": [
       "<div>\n",
       "<style scoped>\n",
       "    .dataframe tbody tr th:only-of-type {\n",
       "        vertical-align: middle;\n",
       "    }\n",
       "\n",
       "    .dataframe tbody tr th {\n",
       "        vertical-align: top;\n",
       "    }\n",
       "\n",
       "    .dataframe thead th {\n",
       "        text-align: right;\n",
       "    }\n",
       "</style>\n",
       "<table border=\"1\" class=\"dataframe\">\n",
       "  <thead>\n",
       "    <tr style=\"text-align: right;\">\n",
       "      <th></th>\n",
       "      <th>company</th>\n",
       "      <th>price_rupiah</th>\n",
       "      <th>diameter</th>\n",
       "      <th>topping</th>\n",
       "      <th>variant</th>\n",
       "      <th>size</th>\n",
       "      <th>extra_sauce</th>\n",
       "      <th>extra_cheese</th>\n",
       "      <th>extra_mushrooms</th>\n",
       "    </tr>\n",
       "  </thead>\n",
       "  <tbody>\n",
       "    <tr>\n",
       "      <th>count</th>\n",
       "      <td>129</td>\n",
       "      <td>129</td>\n",
       "      <td>129</td>\n",
       "      <td>129</td>\n",
       "      <td>129</td>\n",
       "      <td>129</td>\n",
       "      <td>129</td>\n",
       "      <td>129</td>\n",
       "      <td>129</td>\n",
       "    </tr>\n",
       "    <tr>\n",
       "      <th>unique</th>\n",
       "      <td>5</td>\n",
       "      <td>43</td>\n",
       "      <td>12</td>\n",
       "      <td>12</td>\n",
       "      <td>20</td>\n",
       "      <td>6</td>\n",
       "      <td>2</td>\n",
       "      <td>2</td>\n",
       "      <td>2</td>\n",
       "    </tr>\n",
       "    <tr>\n",
       "      <th>top</th>\n",
       "      <td>C</td>\n",
       "      <td>Rp72,000</td>\n",
       "      <td>12 inch</td>\n",
       "      <td>chicken</td>\n",
       "      <td>classic</td>\n",
       "      <td>medium</td>\n",
       "      <td>yes</td>\n",
       "      <td>yes</td>\n",
       "      <td>yes</td>\n",
       "    </tr>\n",
       "    <tr>\n",
       "      <th>freq</th>\n",
       "      <td>30</td>\n",
       "      <td>11</td>\n",
       "      <td>49</td>\n",
       "      <td>29</td>\n",
       "      <td>30</td>\n",
       "      <td>41</td>\n",
       "      <td>76</td>\n",
       "      <td>86</td>\n",
       "      <td>72</td>\n",
       "    </tr>\n",
       "  </tbody>\n",
       "</table>\n",
       "</div>"
      ],
      "text/plain": [
       "       company price_rupiah diameter  topping  variant    size extra_sauce  \\\n",
       "count      129          129      129      129      129     129         129   \n",
       "unique       5           43       12       12       20       6           2   \n",
       "top          C     Rp72,000  12 inch  chicken  classic  medium         yes   \n",
       "freq        30           11       49       29       30      41          76   \n",
       "\n",
       "       extra_cheese extra_mushrooms  \n",
       "count           129             129  \n",
       "unique            2               2  \n",
       "top             yes             yes  \n",
       "freq             86              72  "
      ]
     },
     "execution_count": 6,
     "metadata": {},
     "output_type": "execute_result"
    }
   ],
   "source": [
    "#get statstics about dataset \n",
    "data.describe()"
   ]
  },
  {
   "cell_type": "code",
   "execution_count": 7,
   "id": "83e872f5",
   "metadata": {
    "execution": {
     "iopub.execute_input": "2023-11-06T06:03:25.468370Z",
     "iopub.status.busy": "2023-11-06T06:03:25.467429Z",
     "iopub.status.idle": "2023-11-06T06:03:25.484497Z",
     "shell.execute_reply": "2023-11-06T06:03:25.483668Z"
    },
    "papermill": {
     "duration": 0.040755,
     "end_time": "2023-11-06T06:03:25.486863",
     "exception": false,
     "start_time": "2023-11-06T06:03:25.446108",
     "status": "completed"
    },
    "tags": []
   },
   "outputs": [
    {
     "data": {
      "text/html": [
       "<div>\n",
       "<style scoped>\n",
       "    .dataframe tbody tr th:only-of-type {\n",
       "        vertical-align: middle;\n",
       "    }\n",
       "\n",
       "    .dataframe tbody tr th {\n",
       "        vertical-align: top;\n",
       "    }\n",
       "\n",
       "    .dataframe thead th {\n",
       "        text-align: right;\n",
       "    }\n",
       "</style>\n",
       "<table border=\"1\" class=\"dataframe\">\n",
       "  <thead>\n",
       "    <tr style=\"text-align: right;\">\n",
       "      <th></th>\n",
       "      <th>company</th>\n",
       "      <th>price</th>\n",
       "      <th>diameter</th>\n",
       "      <th>topping</th>\n",
       "      <th>variant</th>\n",
       "      <th>size</th>\n",
       "      <th>extra_sauce</th>\n",
       "      <th>extra_cheese</th>\n",
       "      <th>extra_mushrooms</th>\n",
       "    </tr>\n",
       "  </thead>\n",
       "  <tbody>\n",
       "    <tr>\n",
       "      <th>0</th>\n",
       "      <td>A</td>\n",
       "      <td>Rp235,000</td>\n",
       "      <td>22 inch</td>\n",
       "      <td>chicken</td>\n",
       "      <td>double_signature</td>\n",
       "      <td>jumbo</td>\n",
       "      <td>yes</td>\n",
       "      <td>yes</td>\n",
       "      <td>no</td>\n",
       "    </tr>\n",
       "    <tr>\n",
       "      <th>1</th>\n",
       "      <td>A</td>\n",
       "      <td>Rp198,000</td>\n",
       "      <td>20 inch</td>\n",
       "      <td>papperoni</td>\n",
       "      <td>double_signature</td>\n",
       "      <td>jumbo</td>\n",
       "      <td>yes</td>\n",
       "      <td>yes</td>\n",
       "      <td>no</td>\n",
       "    </tr>\n",
       "    <tr>\n",
       "      <th>2</th>\n",
       "      <td>A</td>\n",
       "      <td>Rp120,000</td>\n",
       "      <td>16 inch</td>\n",
       "      <td>mushrooms</td>\n",
       "      <td>double_signature</td>\n",
       "      <td>reguler</td>\n",
       "      <td>yes</td>\n",
       "      <td>yes</td>\n",
       "      <td>yes</td>\n",
       "    </tr>\n",
       "    <tr>\n",
       "      <th>3</th>\n",
       "      <td>A</td>\n",
       "      <td>Rp155,000</td>\n",
       "      <td>14 inch</td>\n",
       "      <td>smoked_beef</td>\n",
       "      <td>double_signature</td>\n",
       "      <td>reguler</td>\n",
       "      <td>yes</td>\n",
       "      <td>no</td>\n",
       "      <td>yes</td>\n",
       "    </tr>\n",
       "    <tr>\n",
       "      <th>4</th>\n",
       "      <td>A</td>\n",
       "      <td>Rp248,000</td>\n",
       "      <td>18 inch</td>\n",
       "      <td>mozzarella</td>\n",
       "      <td>double_signature</td>\n",
       "      <td>jumbo</td>\n",
       "      <td>yes</td>\n",
       "      <td>no</td>\n",
       "      <td>yes</td>\n",
       "    </tr>\n",
       "  </tbody>\n",
       "</table>\n",
       "</div>"
      ],
      "text/plain": [
       "  company      price diameter      topping           variant     size  \\\n",
       "0       A  Rp235,000  22 inch      chicken  double_signature    jumbo   \n",
       "1       A  Rp198,000  20 inch    papperoni  double_signature    jumbo   \n",
       "2       A  Rp120,000  16 inch    mushrooms  double_signature  reguler   \n",
       "3       A  Rp155,000  14 inch  smoked_beef  double_signature  reguler   \n",
       "4       A  Rp248,000  18 inch   mozzarella  double_signature    jumbo   \n",
       "\n",
       "  extra_sauce extra_cheese extra_mushrooms  \n",
       "0         yes          yes              no  \n",
       "1         yes          yes              no  \n",
       "2         yes          yes             yes  \n",
       "3         yes           no             yes  \n",
       "4         yes           no             yes  "
      ]
     },
     "execution_count": 7,
     "metadata": {},
     "output_type": "execute_result"
    }
   ],
   "source": [
    "#data preprocessing \n",
    "data.head()\n",
    "data.rename({'price_rupiah':'price'},axis=1,inplace=True)\n",
    "data.head()"
   ]
  },
  {
   "cell_type": "code",
   "execution_count": 8,
   "id": "255b58d3",
   "metadata": {
    "execution": {
     "iopub.execute_input": "2023-11-06T06:03:25.529161Z",
     "iopub.status.busy": "2023-11-06T06:03:25.528778Z",
     "iopub.status.idle": "2023-11-06T06:03:25.548235Z",
     "shell.execute_reply": "2023-11-06T06:03:25.547131Z"
    },
    "papermill": {
     "duration": 0.043365,
     "end_time": "2023-11-06T06:03:25.550485",
     "exception": false,
     "start_time": "2023-11-06T06:03:25.507120",
     "status": "completed"
    },
    "tags": []
   },
   "outputs": [
    {
     "data": {
      "text/html": [
       "<div>\n",
       "<style scoped>\n",
       "    .dataframe tbody tr th:only-of-type {\n",
       "        vertical-align: middle;\n",
       "    }\n",
       "\n",
       "    .dataframe tbody tr th {\n",
       "        vertical-align: top;\n",
       "    }\n",
       "\n",
       "    .dataframe thead th {\n",
       "        text-align: right;\n",
       "    }\n",
       "</style>\n",
       "<table border=\"1\" class=\"dataframe\">\n",
       "  <thead>\n",
       "    <tr style=\"text-align: right;\">\n",
       "      <th></th>\n",
       "      <th>company</th>\n",
       "      <th>price</th>\n",
       "      <th>diameter</th>\n",
       "      <th>topping</th>\n",
       "      <th>variant</th>\n",
       "      <th>size</th>\n",
       "      <th>extra_sauce</th>\n",
       "      <th>extra_cheese</th>\n",
       "      <th>extra_mushrooms</th>\n",
       "    </tr>\n",
       "  </thead>\n",
       "  <tbody>\n",
       "    <tr>\n",
       "      <th>0</th>\n",
       "      <td>A</td>\n",
       "      <td>235000</td>\n",
       "      <td>22 inch</td>\n",
       "      <td>chicken</td>\n",
       "      <td>double_signature</td>\n",
       "      <td>jumbo</td>\n",
       "      <td>yes</td>\n",
       "      <td>yes</td>\n",
       "      <td>no</td>\n",
       "    </tr>\n",
       "    <tr>\n",
       "      <th>1</th>\n",
       "      <td>A</td>\n",
       "      <td>198000</td>\n",
       "      <td>20 inch</td>\n",
       "      <td>papperoni</td>\n",
       "      <td>double_signature</td>\n",
       "      <td>jumbo</td>\n",
       "      <td>yes</td>\n",
       "      <td>yes</td>\n",
       "      <td>no</td>\n",
       "    </tr>\n",
       "    <tr>\n",
       "      <th>2</th>\n",
       "      <td>A</td>\n",
       "      <td>120000</td>\n",
       "      <td>16 inch</td>\n",
       "      <td>mushrooms</td>\n",
       "      <td>double_signature</td>\n",
       "      <td>reguler</td>\n",
       "      <td>yes</td>\n",
       "      <td>yes</td>\n",
       "      <td>yes</td>\n",
       "    </tr>\n",
       "    <tr>\n",
       "      <th>3</th>\n",
       "      <td>A</td>\n",
       "      <td>155000</td>\n",
       "      <td>14 inch</td>\n",
       "      <td>smoked_beef</td>\n",
       "      <td>double_signature</td>\n",
       "      <td>reguler</td>\n",
       "      <td>yes</td>\n",
       "      <td>no</td>\n",
       "      <td>yes</td>\n",
       "    </tr>\n",
       "    <tr>\n",
       "      <th>4</th>\n",
       "      <td>A</td>\n",
       "      <td>248000</td>\n",
       "      <td>18 inch</td>\n",
       "      <td>mozzarella</td>\n",
       "      <td>double_signature</td>\n",
       "      <td>jumbo</td>\n",
       "      <td>yes</td>\n",
       "      <td>no</td>\n",
       "      <td>yes</td>\n",
       "    </tr>\n",
       "  </tbody>\n",
       "</table>\n",
       "</div>"
      ],
      "text/plain": [
       "  company   price diameter      topping           variant     size  \\\n",
       "0       A  235000  22 inch      chicken  double_signature    jumbo   \n",
       "1       A  198000  20 inch    papperoni  double_signature    jumbo   \n",
       "2       A  120000  16 inch    mushrooms  double_signature  reguler   \n",
       "3       A  155000  14 inch  smoked_beef  double_signature  reguler   \n",
       "4       A  248000  18 inch   mozzarella  double_signature    jumbo   \n",
       "\n",
       "  extra_sauce extra_cheese extra_mushrooms  \n",
       "0         yes          yes              no  \n",
       "1         yes          yes              no  \n",
       "2         yes          yes             yes  \n",
       "3         yes           no             yes  \n",
       "4         yes           no             yes  "
      ]
     },
     "execution_count": 8,
     "metadata": {},
     "output_type": "execute_result"
    }
   ],
   "source": [
    "data['price']=data['price'].str.replace(\"Rp\",\"\")\n",
    "data['price']=data['price'].str.replace(\",\",\"\").astype('int32')\n",
    "data.head()\n"
   ]
  },
  {
   "cell_type": "code",
   "execution_count": 9,
   "id": "64a81b66",
   "metadata": {
    "execution": {
     "iopub.execute_input": "2023-11-06T06:03:25.593202Z",
     "iopub.status.busy": "2023-11-06T06:03:25.592592Z",
     "iopub.status.idle": "2023-11-06T06:03:25.609401Z",
     "shell.execute_reply": "2023-11-06T06:03:25.608141Z"
    },
    "papermill": {
     "duration": 0.0413,
     "end_time": "2023-11-06T06:03:25.612360",
     "exception": false,
     "start_time": "2023-11-06T06:03:25.571060",
     "status": "completed"
    },
    "tags": []
   },
   "outputs": [
    {
     "name": "stdout",
     "output_type": "stream",
     "text": [
      "<class 'pandas.core.frame.DataFrame'>\n",
      "RangeIndex: 129 entries, 0 to 128\n",
      "Data columns (total 9 columns):\n",
      " #   Column           Non-Null Count  Dtype \n",
      "---  ------           --------------  ----- \n",
      " 0   company          129 non-null    object\n",
      " 1   price            129 non-null    int32 \n",
      " 2   diameter         129 non-null    object\n",
      " 3   topping          129 non-null    object\n",
      " 4   variant          129 non-null    object\n",
      " 5   size             129 non-null    object\n",
      " 6   extra_sauce      129 non-null    object\n",
      " 7   extra_cheese     129 non-null    object\n",
      " 8   extra_mushrooms  129 non-null    object\n",
      "dtypes: int32(1), object(8)\n",
      "memory usage: 8.7+ KB\n"
     ]
    }
   ],
   "source": [
    "data.info()"
   ]
  },
  {
   "cell_type": "code",
   "execution_count": 10,
   "id": "0128fb94",
   "metadata": {
    "execution": {
     "iopub.execute_input": "2023-11-06T06:03:25.656231Z",
     "iopub.status.busy": "2023-11-06T06:03:25.655580Z",
     "iopub.status.idle": "2023-11-06T06:03:25.672349Z",
     "shell.execute_reply": "2023-11-06T06:03:25.671517Z"
    },
    "papermill": {
     "duration": 0.042485,
     "end_time": "2023-11-06T06:03:25.675095",
     "exception": false,
     "start_time": "2023-11-06T06:03:25.632610",
     "status": "completed"
    },
    "tags": []
   },
   "outputs": [
    {
     "data": {
      "text/html": [
       "<div>\n",
       "<style scoped>\n",
       "    .dataframe tbody tr th:only-of-type {\n",
       "        vertical-align: middle;\n",
       "    }\n",
       "\n",
       "    .dataframe tbody tr th {\n",
       "        vertical-align: top;\n",
       "    }\n",
       "\n",
       "    .dataframe thead th {\n",
       "        text-align: right;\n",
       "    }\n",
       "</style>\n",
       "<table border=\"1\" class=\"dataframe\">\n",
       "  <thead>\n",
       "    <tr style=\"text-align: right;\">\n",
       "      <th></th>\n",
       "      <th>company</th>\n",
       "      <th>price</th>\n",
       "      <th>diameter</th>\n",
       "      <th>topping</th>\n",
       "      <th>variant</th>\n",
       "      <th>size</th>\n",
       "      <th>extra_sauce</th>\n",
       "      <th>extra_cheese</th>\n",
       "      <th>extra_mushrooms</th>\n",
       "    </tr>\n",
       "  </thead>\n",
       "  <tbody>\n",
       "    <tr>\n",
       "      <th>0</th>\n",
       "      <td>A</td>\n",
       "      <td>1269.0</td>\n",
       "      <td>22 inch</td>\n",
       "      <td>chicken</td>\n",
       "      <td>double_signature</td>\n",
       "      <td>jumbo</td>\n",
       "      <td>yes</td>\n",
       "      <td>yes</td>\n",
       "      <td>no</td>\n",
       "    </tr>\n",
       "    <tr>\n",
       "      <th>1</th>\n",
       "      <td>A</td>\n",
       "      <td>1069.2</td>\n",
       "      <td>20 inch</td>\n",
       "      <td>papperoni</td>\n",
       "      <td>double_signature</td>\n",
       "      <td>jumbo</td>\n",
       "      <td>yes</td>\n",
       "      <td>yes</td>\n",
       "      <td>no</td>\n",
       "    </tr>\n",
       "    <tr>\n",
       "      <th>2</th>\n",
       "      <td>A</td>\n",
       "      <td>648.0</td>\n",
       "      <td>16 inch</td>\n",
       "      <td>mushrooms</td>\n",
       "      <td>double_signature</td>\n",
       "      <td>reguler</td>\n",
       "      <td>yes</td>\n",
       "      <td>yes</td>\n",
       "      <td>yes</td>\n",
       "    </tr>\n",
       "    <tr>\n",
       "      <th>3</th>\n",
       "      <td>A</td>\n",
       "      <td>837.0</td>\n",
       "      <td>14 inch</td>\n",
       "      <td>smoked_beef</td>\n",
       "      <td>double_signature</td>\n",
       "      <td>reguler</td>\n",
       "      <td>yes</td>\n",
       "      <td>no</td>\n",
       "      <td>yes</td>\n",
       "    </tr>\n",
       "    <tr>\n",
       "      <th>4</th>\n",
       "      <td>A</td>\n",
       "      <td>1339.2</td>\n",
       "      <td>18 inch</td>\n",
       "      <td>mozzarella</td>\n",
       "      <td>double_signature</td>\n",
       "      <td>jumbo</td>\n",
       "      <td>yes</td>\n",
       "      <td>no</td>\n",
       "      <td>yes</td>\n",
       "    </tr>\n",
       "  </tbody>\n",
       "</table>\n",
       "</div>"
      ],
      "text/plain": [
       "  company   price diameter      topping           variant     size  \\\n",
       "0       A  1269.0  22 inch      chicken  double_signature    jumbo   \n",
       "1       A  1069.2  20 inch    papperoni  double_signature    jumbo   \n",
       "2       A   648.0  16 inch    mushrooms  double_signature  reguler   \n",
       "3       A   837.0  14 inch  smoked_beef  double_signature  reguler   \n",
       "4       A  1339.2  18 inch   mozzarella  double_signature    jumbo   \n",
       "\n",
       "  extra_sauce extra_cheese extra_mushrooms  \n",
       "0         yes          yes              no  \n",
       "1         yes          yes              no  \n",
       "2         yes          yes             yes  \n",
       "3         yes           no             yes  \n",
       "4         yes           no             yes  "
      ]
     },
     "execution_count": 10,
     "metadata": {},
     "output_type": "execute_result"
    }
   ],
   "source": [
    "def convert(value):\n",
    "    return value *0.0054\n",
    "data['price']=data['price'].apply(convert)\n",
    "data.head()"
   ]
  },
  {
   "cell_type": "code",
   "execution_count": 11,
   "id": "130c2ee0",
   "metadata": {
    "execution": {
     "iopub.execute_input": "2023-11-06T06:03:25.719717Z",
     "iopub.status.busy": "2023-11-06T06:03:25.719232Z",
     "iopub.status.idle": "2023-11-06T06:03:25.739281Z",
     "shell.execute_reply": "2023-11-06T06:03:25.738057Z"
    },
    "papermill": {
     "duration": 0.045307,
     "end_time": "2023-11-06T06:03:25.741612",
     "exception": false,
     "start_time": "2023-11-06T06:03:25.696305",
     "status": "completed"
    },
    "tags": []
   },
   "outputs": [
    {
     "data": {
      "text/html": [
       "<div>\n",
       "<style scoped>\n",
       "    .dataframe tbody tr th:only-of-type {\n",
       "        vertical-align: middle;\n",
       "    }\n",
       "\n",
       "    .dataframe tbody tr th {\n",
       "        vertical-align: top;\n",
       "    }\n",
       "\n",
       "    .dataframe thead th {\n",
       "        text-align: right;\n",
       "    }\n",
       "</style>\n",
       "<table border=\"1\" class=\"dataframe\">\n",
       "  <thead>\n",
       "    <tr style=\"text-align: right;\">\n",
       "      <th></th>\n",
       "      <th>company</th>\n",
       "      <th>price</th>\n",
       "      <th>diameter</th>\n",
       "      <th>topping</th>\n",
       "      <th>variant</th>\n",
       "      <th>size</th>\n",
       "      <th>extra_sauce</th>\n",
       "      <th>extra_cheese</th>\n",
       "      <th>extra_mushrooms</th>\n",
       "    </tr>\n",
       "  </thead>\n",
       "  <tbody>\n",
       "    <tr>\n",
       "      <th>0</th>\n",
       "      <td>A</td>\n",
       "      <td>1269.0</td>\n",
       "      <td>22.0</td>\n",
       "      <td>chicken</td>\n",
       "      <td>double_signature</td>\n",
       "      <td>jumbo</td>\n",
       "      <td>yes</td>\n",
       "      <td>yes</td>\n",
       "      <td>no</td>\n",
       "    </tr>\n",
       "    <tr>\n",
       "      <th>1</th>\n",
       "      <td>A</td>\n",
       "      <td>1069.2</td>\n",
       "      <td>20.0</td>\n",
       "      <td>papperoni</td>\n",
       "      <td>double_signature</td>\n",
       "      <td>jumbo</td>\n",
       "      <td>yes</td>\n",
       "      <td>yes</td>\n",
       "      <td>no</td>\n",
       "    </tr>\n",
       "    <tr>\n",
       "      <th>2</th>\n",
       "      <td>A</td>\n",
       "      <td>648.0</td>\n",
       "      <td>16.0</td>\n",
       "      <td>mushrooms</td>\n",
       "      <td>double_signature</td>\n",
       "      <td>reguler</td>\n",
       "      <td>yes</td>\n",
       "      <td>yes</td>\n",
       "      <td>yes</td>\n",
       "    </tr>\n",
       "    <tr>\n",
       "      <th>3</th>\n",
       "      <td>A</td>\n",
       "      <td>837.0</td>\n",
       "      <td>14.0</td>\n",
       "      <td>smoked_beef</td>\n",
       "      <td>double_signature</td>\n",
       "      <td>reguler</td>\n",
       "      <td>yes</td>\n",
       "      <td>no</td>\n",
       "      <td>yes</td>\n",
       "    </tr>\n",
       "    <tr>\n",
       "      <th>4</th>\n",
       "      <td>A</td>\n",
       "      <td>1339.2</td>\n",
       "      <td>18.0</td>\n",
       "      <td>mozzarella</td>\n",
       "      <td>double_signature</td>\n",
       "      <td>jumbo</td>\n",
       "      <td>yes</td>\n",
       "      <td>no</td>\n",
       "      <td>yes</td>\n",
       "    </tr>\n",
       "  </tbody>\n",
       "</table>\n",
       "</div>"
      ],
      "text/plain": [
       "  company   price  diameter      topping           variant     size  \\\n",
       "0       A  1269.0      22.0      chicken  double_signature    jumbo   \n",
       "1       A  1069.2      20.0    papperoni  double_signature    jumbo   \n",
       "2       A   648.0      16.0    mushrooms  double_signature  reguler   \n",
       "3       A   837.0      14.0  smoked_beef  double_signature  reguler   \n",
       "4       A  1339.2      18.0   mozzarella  double_signature    jumbo   \n",
       "\n",
       "  extra_sauce extra_cheese extra_mushrooms  \n",
       "0         yes          yes              no  \n",
       "1         yes          yes              no  \n",
       "2         yes          yes             yes  \n",
       "3         yes           no             yes  \n",
       "4         yes           no             yes  "
      ]
     },
     "execution_count": 11,
     "metadata": {},
     "output_type": "execute_result"
    }
   ],
   "source": [
    "data['diameter']=data['diameter'].str.replace(\"inch\",\"\")\n",
    "data['diameter']=data['diameter'].str.replace(\" \",\"\").astype('float32')\n",
    "data.head()"
   ]
  },
  {
   "cell_type": "code",
   "execution_count": 12,
   "id": "0b700704",
   "metadata": {
    "execution": {
     "iopub.execute_input": "2023-11-06T06:03:25.851462Z",
     "iopub.status.busy": "2023-11-06T06:03:25.851070Z",
     "iopub.status.idle": "2023-11-06T06:03:25.858834Z",
     "shell.execute_reply": "2023-11-06T06:03:25.857657Z"
    },
    "papermill": {
     "duration": 0.033469,
     "end_time": "2023-11-06T06:03:25.861295",
     "exception": false,
     "start_time": "2023-11-06T06:03:25.827826",
     "status": "completed"
    },
    "tags": []
   },
   "outputs": [
    {
     "data": {
      "text/plain": [
       "Index(['company', 'price', 'diameter', 'topping', 'variant', 'size',\n",
       "       'extra_sauce', 'extra_cheese', 'extra_mushrooms'],\n",
       "      dtype='object')"
      ]
     },
     "execution_count": 12,
     "metadata": {},
     "output_type": "execute_result"
    }
   ],
   "source": [
    "#univariate analysis\n",
    "data.columns"
   ]
  },
  {
   "cell_type": "code",
   "execution_count": 13,
   "id": "4364c2f8",
   "metadata": {
    "execution": {
     "iopub.execute_input": "2023-11-06T06:03:25.905950Z",
     "iopub.status.busy": "2023-11-06T06:03:25.905543Z",
     "iopub.status.idle": "2023-11-06T06:03:25.914093Z",
     "shell.execute_reply": "2023-11-06T06:03:25.913200Z"
    },
    "papermill": {
     "duration": 0.033868,
     "end_time": "2023-11-06T06:03:25.916474",
     "exception": false,
     "start_time": "2023-11-06T06:03:25.882606",
     "status": "completed"
    },
    "tags": []
   },
   "outputs": [
    {
     "data": {
      "text/plain": [
       "company\n",
       "C    30\n",
       "E    30\n",
       "A    25\n",
       "B    24\n",
       "D    20\n",
       "Name: count, dtype: int64"
      ]
     },
     "execution_count": 13,
     "metadata": {},
     "output_type": "execute_result"
    }
   ],
   "source": [
    "data['company'].value_counts()"
   ]
  },
  {
   "cell_type": "code",
   "execution_count": 14,
   "id": "ccfbbd5f",
   "metadata": {
    "execution": {
     "iopub.execute_input": "2023-11-06T06:03:25.962000Z",
     "iopub.status.busy": "2023-11-06T06:03:25.961324Z",
     "iopub.status.idle": "2023-11-06T06:03:25.966373Z",
     "shell.execute_reply": "2023-11-06T06:03:25.965354Z"
    },
    "papermill": {
     "duration": 0.030881,
     "end_time": "2023-11-06T06:03:25.968783",
     "exception": false,
     "start_time": "2023-11-06T06:03:25.937902",
     "status": "completed"
    },
    "tags": []
   },
   "outputs": [],
   "source": [
    "import matplotlib.pyplot as plt \n"
   ]
  },
  {
   "cell_type": "code",
   "execution_count": 15,
   "id": "a22d55e4",
   "metadata": {
    "execution": {
     "iopub.execute_input": "2023-11-06T06:03:26.013746Z",
     "iopub.status.busy": "2023-11-06T06:03:26.013364Z",
     "iopub.status.idle": "2023-11-06T06:03:26.354860Z",
     "shell.execute_reply": "2023-11-06T06:03:26.353671Z"
    },
    "papermill": {
     "duration": 0.367326,
     "end_time": "2023-11-06T06:03:26.357511",
     "exception": false,
     "start_time": "2023-11-06T06:03:25.990185",
     "status": "completed"
    },
    "tags": []
   },
   "outputs": [
    {
     "data": {
      "image/png": "[encoded data removed]",
      "text/plain": [
       "<Figure size 640x480 with 1 Axes>"
      ]
     },
     "metadata": {},
     "output_type": "display_data"
    }
   ],
   "source": [
    "plt.hist(x=\"price\",data=data)\n",
    "plt.title(\"price distribution\")\n",
    "plt.show()"
   ]
  },
  {
   "cell_type": "code",
   "execution_count": 16,
   "id": "0831a4ea",
   "metadata": {
    "execution": {
     "iopub.execute_input": "2023-11-06T06:03:26.403074Z",
     "iopub.status.busy": "2023-11-06T06:03:26.402638Z",
     "iopub.status.idle": "2023-11-06T06:03:26.413351Z",
     "shell.execute_reply": "2023-11-06T06:03:26.411810Z"
    },
    "papermill": {
     "duration": 0.036326,
     "end_time": "2023-11-06T06:03:26.415765",
     "exception": false,
     "start_time": "2023-11-06T06:03:26.379439",
     "status": "completed"
    },
    "tags": []
   },
   "outputs": [
    {
     "data": {
      "text/plain": [
       "diameter\n",
       "12.0    49\n",
       "14.0    24\n",
       "8.5     22\n",
       "17.0    10\n",
       "18.5     6\n",
       "16.0     5\n",
       "8.0      4\n",
       "16.5     4\n",
       "22.0     3\n",
       "20.0     1\n",
       "18.0     1\n",
       "Name: count, dtype: int64"
      ]
     },
     "execution_count": 16,
     "metadata": {},
     "output_type": "execute_result"
    }
   ],
   "source": [
    "data['diameter'].value_counts()"
   ]
  },
  {
   "cell_type": "code",
   "execution_count": 17,
   "id": "a2c1c214",
   "metadata": {
    "execution": {
     "iopub.execute_input": "2023-11-06T06:03:26.461864Z",
     "iopub.status.busy": "2023-11-06T06:03:26.461445Z",
     "iopub.status.idle": "2023-11-06T06:03:28.116304Z",
     "shell.execute_reply": "2023-11-06T06:03:28.114840Z"
    },
    "papermill": {
     "duration": 1.68116,
     "end_time": "2023-11-06T06:03:28.119136",
     "exception": false,
     "start_time": "2023-11-06T06:03:26.437976",
     "status": "completed"
    },
    "tags": []
   },
   "outputs": [],
   "source": [
    "import seaborn as sns"
   ]
  },
  {
   "cell_type": "code",
   "execution_count": 18,
   "id": "5800de24",
   "metadata": {
    "execution": {
     "iopub.execute_input": "2023-11-06T06:03:28.165937Z",
     "iopub.status.busy": "2023-11-06T06:03:28.165470Z",
     "iopub.status.idle": "2023-11-06T06:03:28.509988Z",
     "shell.execute_reply": "2023-11-06T06:03:28.508780Z"
    },
    "papermill": {
     "duration": 0.371828,
     "end_time": "2023-11-06T06:03:28.513137",
     "exception": false,
     "start_time": "2023-11-06T06:03:28.141309",
     "status": "completed"
    },
    "tags": []
   },
   "outputs": [
    {
     "data": {
      "text/plain": [
       "<Axes: xlabel='diameter', ylabel='count'>"
      ]
     },
     "execution_count": 18,
     "metadata": {},
     "output_type": "execute_result"
    },
    {
     "data": {
      "image/png": "[encoded data removed]",
      "text/plain": [
       "<Figure size 640x480 with 1 Axes>"
      ]
     },
     "metadata": {},
     "output_type": "display_data"
    }
   ],
   "source": [
    "sns.countplot(x=data['diameter'])"
   ]
  },
  {
   "cell_type": "code",
   "execution_count": 19,
   "id": "b184c441",
   "metadata": {
    "execution": {
     "iopub.execute_input": "2023-11-06T06:03:28.567282Z",
     "iopub.status.busy": "2023-11-06T06:03:28.566865Z",
     "iopub.status.idle": "2023-11-06T06:03:28.575825Z",
     "shell.execute_reply": "2023-11-06T06:03:28.574726Z"
    },
    "papermill": {
     "duration": 0.036277,
     "end_time": "2023-11-06T06:03:28.578152",
     "exception": false,
     "start_time": "2023-11-06T06:03:28.541875",
     "status": "completed"
    },
    "tags": []
   },
   "outputs": [
    {
     "data": {
      "text/plain": [
       "<bound method IndexOpsMixin.value_counts of 0          chicken\n",
       "1        papperoni\n",
       "2        mushrooms\n",
       "3      smoked_beef\n",
       "4       mozzarella\n",
       "          ...     \n",
       "124           tuna\n",
       "125           tuna\n",
       "126           tuna\n",
       "127           meat\n",
       "128           meat\n",
       "Name: topping, Length: 129, dtype: object>"
      ]
     },
     "execution_count": 19,
     "metadata": {},
     "output_type": "execute_result"
    }
   ],
   "source": [
    "data['topping'].value_counts"
   ]
  },
  {
   "cell_type": "code",
   "execution_count": 20,
   "id": "7a7dd097",
   "metadata": {
    "execution": {
     "iopub.execute_input": "2023-11-06T06:03:28.641176Z",
     "iopub.status.busy": "2023-11-06T06:03:28.640321Z",
     "iopub.status.idle": "2023-11-06T06:03:28.988897Z",
     "shell.execute_reply": "2023-11-06T06:03:28.988016Z"
    },
    "papermill": {
     "duration": 0.381305,
     "end_time": "2023-11-06T06:03:28.991795",
     "exception": false,
     "start_time": "2023-11-06T06:03:28.610490",
     "status": "completed"
    },
    "tags": []
   },
   "outputs": [
    {
     "data": {
      "text/plain": [
       "<Axes: xlabel='count', ylabel='topping'>"
      ]
     },
     "execution_count": 20,
     "metadata": {},
     "output_type": "execute_result"
    },
    {
     "data": {
      "image/png": "[encoded data removed]",
      "text/plain": [
       "<Figure size 640x480 with 1 Axes>"
      ]
     },
     "metadata": {},
     "output_type": "display_data"
    }
   ],
   "source": [
    "sns.countplot(y=data['topping'])"
   ]
  },
  {
   "cell_type": "code",
   "execution_count": 21,
   "id": "21f6f3f6",
   "metadata": {
    "execution": {
     "iopub.execute_input": "2023-11-06T06:03:29.042377Z",
     "iopub.status.busy": "2023-11-06T06:03:29.041120Z",
     "iopub.status.idle": "2023-11-06T06:03:29.050610Z",
     "shell.execute_reply": "2023-11-06T06:03:29.049490Z"
    },
    "papermill": {
     "duration": 0.037453,
     "end_time": "2023-11-06T06:03:29.053129",
     "exception": false,
     "start_time": "2023-11-06T06:03:29.015676",
     "status": "completed"
    },
    "tags": []
   },
   "outputs": [
    {
     "data": {
      "text/plain": [
       "<bound method IndexOpsMixin.value_counts of 0      double_signature\n",
       "1      double_signature\n",
       "2      double_signature\n",
       "3      double_signature\n",
       "4      double_signature\n",
       "             ...       \n",
       "124          spicy tuna\n",
       "125          spicy tuna\n",
       "126          spicy tuna\n",
       "127     BBQ_meat_fiesta\n",
       "128     BBQ_meat_fiesta\n",
       "Name: variant, Length: 129, dtype: object>"
      ]
     },
     "execution_count": 21,
     "metadata": {},
     "output_type": "execute_result"
    }
   ],
   "source": [
    "data['variant'].value_counts"
   ]
  },
  {
   "cell_type": "code",
   "execution_count": 22,
   "id": "2d3f6a88",
   "metadata": {
    "execution": {
     "iopub.execute_input": "2023-11-06T06:03:29.104075Z",
     "iopub.status.busy": "2023-11-06T06:03:29.103635Z",
     "iopub.status.idle": "2023-11-06T06:03:29.539585Z",
     "shell.execute_reply": "2023-11-06T06:03:29.538488Z"
    },
    "papermill": {
     "duration": 0.465883,
     "end_time": "2023-11-06T06:03:29.542582",
     "exception": false,
     "start_time": "2023-11-06T06:03:29.076699",
     "status": "completed"
    },
    "tags": []
   },
   "outputs": [
    {
     "data": {
      "text/plain": [
       "<Axes: xlabel='count', ylabel='variant'>"
      ]
     },
     "execution_count": 22,
     "metadata": {},
     "output_type": "execute_result"
    },
    {
     "data": {
      "image/png": "[encoded data removed]",
      "text/plain": [
       "<Figure size 640x480 with 1 Axes>"
      ]
     },
     "metadata": {},
     "output_type": "display_data"
    }
   ],
   "source": [
    "sns.countplot(y=data['variant'])"
   ]
  },
  {
   "cell_type": "code",
   "execution_count": 23,
   "id": "376df45d",
   "metadata": {
    "execution": {
     "iopub.execute_input": "2023-11-06T06:03:29.595021Z",
     "iopub.status.busy": "2023-11-06T06:03:29.594177Z",
     "iopub.status.idle": "2023-11-06T06:03:29.602987Z",
     "shell.execute_reply": "2023-11-06T06:03:29.601998Z"
    },
    "papermill": {
     "duration": 0.038563,
     "end_time": "2023-11-06T06:03:29.606011",
     "exception": false,
     "start_time": "2023-11-06T06:03:29.567448",
     "status": "completed"
    },
    "tags": []
   },
   "outputs": [
    {
     "data": {
      "text/plain": [
       "<bound method IndexOpsMixin.value_counts of 0        jumbo\n",
       "1        jumbo\n",
       "2      reguler\n",
       "3      reguler\n",
       "4        jumbo\n",
       "        ...   \n",
       "124      small\n",
       "125     medium\n",
       "126      large\n",
       "127      small\n",
       "128     medium\n",
       "Name: size, Length: 129, dtype: object>"
      ]
     },
     "execution_count": 23,
     "metadata": {},
     "output_type": "execute_result"
    }
   ],
   "source": [
    "data['size'].value_counts"
   ]
  },
  {
   "cell_type": "code",
   "execution_count": 24,
   "id": "63e88335",
   "metadata": {
    "execution": {
     "iopub.execute_input": "2023-11-06T06:03:29.658578Z",
     "iopub.status.busy": "2023-11-06T06:03:29.658215Z",
     "iopub.status.idle": "2023-11-06T06:03:29.949165Z",
     "shell.execute_reply": "2023-11-06T06:03:29.947994Z"
    },
    "papermill": {
     "duration": 0.319431,
     "end_time": "2023-11-06T06:03:29.951768",
     "exception": false,
     "start_time": "2023-11-06T06:03:29.632337",
     "status": "completed"
    },
    "tags": []
   },
   "outputs": [
    {
     "data": {
      "text/plain": [
       "<Axes: xlabel='size', ylabel='count'>"
      ]
     },
     "execution_count": 24,
     "metadata": {},
     "output_type": "execute_result"
    },
    {
     "data": {
      "image/png": "[encoded data removed]",
      "text/plain": [
       "<Figure size 640x480 with 1 Axes>"
      ]
     },
     "metadata": {},
     "output_type": "display_data"
    }
   ],
   "source": [
    "sns.countplot(x=data['size'])"
   ]
  },
  {
   "cell_type": "code",
   "execution_count": 25,
   "id": "a0b16ecc",
   "metadata": {
    "execution": {
     "iopub.execute_input": "2023-11-06T06:03:30.005005Z",
     "iopub.status.busy": "2023-11-06T06:03:30.004576Z",
     "iopub.status.idle": "2023-11-06T06:03:30.247128Z",
     "shell.execute_reply": "2023-11-06T06:03:30.246258Z"
    },
    "papermill": {
     "duration": 0.272566,
     "end_time": "2023-11-06T06:03:30.249378",
     "exception": false,
     "start_time": "2023-11-06T06:03:29.976812",
     "status": "completed"
    },
    "tags": []
   },
   "outputs": [
    {
     "data": {
      "text/plain": [
       "<Axes: xlabel='extra_sauce', ylabel='count'>"
      ]
     },
     "execution_count": 25,
     "metadata": {},
     "output_type": "execute_result"
    },
    {
     "data": {
      "image/png": "[encoded data removed]",
      "text/plain": [
       "<Figure size 640x480 with 1 Axes>"
      ]
     },
     "metadata": {},
     "output_type": "display_data"
    }
   ],
   "source": [
    "sns.countplot(x=data['extra_sauce'])"
   ]
  },
  {
   "cell_type": "code",
   "execution_count": 26,
   "id": "8bf9f8ac",
   "metadata": {
    "execution": {
     "iopub.execute_input": "2023-11-06T06:03:30.302850Z",
     "iopub.status.busy": "2023-11-06T06:03:30.302455Z",
     "iopub.status.idle": "2023-11-06T06:03:30.518460Z",
     "shell.execute_reply": "2023-11-06T06:03:30.517054Z"
    },
    "papermill": {
     "duration": 0.246039,
     "end_time": "2023-11-06T06:03:30.521523",
     "exception": false,
     "start_time": "2023-11-06T06:03:30.275484",
     "status": "completed"
    },
    "tags": []
   },
   "outputs": [
    {
     "data": {
      "text/plain": [
       "<Axes: xlabel='extra_cheese', ylabel='count'>"
      ]
     },
     "execution_count": 26,
     "metadata": {},
     "output_type": "execute_result"
    },
    {
     "data": {
      "image/png": "[encoded data removed]",
      "text/plain": [
       "<Figure size 640x480 with 1 Axes>"
      ]
     },
     "metadata": {},
     "output_type": "display_data"
    }
   ],
   "source": [
    "sns.countplot(x=data['extra_cheese'])"
   ]
  },
  {
   "cell_type": "code",
   "execution_count": 27,
   "id": "4522156d",
   "metadata": {
    "execution": {
     "iopub.execute_input": "2023-11-06T06:03:30.576675Z",
     "iopub.status.busy": "2023-11-06T06:03:30.576160Z",
     "iopub.status.idle": "2023-11-06T06:03:30.819225Z",
     "shell.execute_reply": "2023-11-06T06:03:30.818050Z"
    },
    "papermill": {
     "duration": 0.273493,
     "end_time": "2023-11-06T06:03:30.822002",
     "exception": false,
     "start_time": "2023-11-06T06:03:30.548509",
     "status": "completed"
    },
    "tags": []
   },
   "outputs": [
    {
     "data": {
      "text/plain": [
       "<Axes: xlabel='extra_mushrooms', ylabel='count'>"
      ]
     },
     "execution_count": 27,
     "metadata": {},
     "output_type": "execute_result"
    },
    {
     "data": {
      "image/png": "[encoded data removed]",
      "text/plain": [
       "<Figure size 640x480 with 1 Axes>"
      ]
     },
     "metadata": {},
     "output_type": "display_data"
    }
   ],
   "source": [
    "sns.countplot(x=data['extra_mushrooms'])"
   ]
  },
  {
   "cell_type": "code",
   "execution_count": 28,
   "id": "6c28ca44",
   "metadata": {
    "execution": {
     "iopub.execute_input": "2023-11-06T06:03:30.881353Z",
     "iopub.status.busy": "2023-11-06T06:03:30.880526Z",
     "iopub.status.idle": "2023-11-06T06:03:30.888202Z",
     "shell.execute_reply": "2023-11-06T06:03:30.887006Z"
    },
    "papermill": {
     "duration": 0.03906,
     "end_time": "2023-11-06T06:03:30.890562",
     "exception": false,
     "start_time": "2023-11-06T06:03:30.851502",
     "status": "completed"
    },
    "tags": []
   },
   "outputs": [
    {
     "data": {
      "text/plain": [
       "Index(['company', 'price', 'diameter', 'topping', 'variant', 'size',\n",
       "       'extra_sauce', 'extra_cheese', 'extra_mushrooms'],\n",
       "      dtype='object')"
      ]
     },
     "execution_count": 28,
     "metadata": {},
     "output_type": "execute_result"
    }
   ],
   "source": [
    "#bivariate analysis \n",
    "#price by company \n",
    "data.columns"
   ]
  },
  {
   "cell_type": "code",
   "execution_count": 29,
   "id": "2cebed52",
   "metadata": {
    "execution": {
     "iopub.execute_input": "2023-11-06T06:03:30.946179Z",
     "iopub.status.busy": "2023-11-06T06:03:30.945367Z",
     "iopub.status.idle": "2023-11-06T06:03:31.398132Z",
     "shell.execute_reply": "2023-11-06T06:03:31.397079Z"
    },
    "papermill": {
     "duration": 0.484029,
     "end_time": "2023-11-06T06:03:31.401006",
     "exception": false,
     "start_time": "2023-11-06T06:03:30.916977",
     "status": "completed"
    },
    "tags": []
   },
   "outputs": [
    {
     "data": {
      "text/plain": [
       "<Axes: xlabel='company', ylabel='price'>"
      ]
     },
     "execution_count": 29,
     "metadata": {},
     "output_type": "execute_result"
    },
    {
     "data": {
      "image/png": "[encoded data removed]",
      "text/plain": [
       "<Figure size 640x480 with 1 Axes>"
      ]
     },
     "metadata": {},
     "output_type": "display_data"
    }
   ],
   "source": [
    "sns.barplot(data, x=\"company\", y=\"price\")"
   ]
  },
  {
   "cell_type": "code",
   "execution_count": 30,
   "id": "9cdcd3dc",
   "metadata": {
    "execution": {
     "iopub.execute_input": "2023-11-06T06:03:31.458589Z",
     "iopub.status.busy": "2023-11-06T06:03:31.457754Z",
     "iopub.status.idle": "2023-11-06T06:03:31.907396Z",
     "shell.execute_reply": "2023-11-06T06:03:31.906202Z"
    },
    "papermill": {
     "duration": 0.481318,
     "end_time": "2023-11-06T06:03:31.909962",
     "exception": false,
     "start_time": "2023-11-06T06:03:31.428644",
     "status": "completed"
    },
    "tags": []
   },
   "outputs": [
    {
     "data": {
      "text/plain": [
       "<Axes: xlabel='price', ylabel='topping'>"
      ]
     },
     "execution_count": 30,
     "metadata": {},
     "output_type": "execute_result"
    },
    {
     "data": {
      "image/png": "[encoded data removed]",
      "text/plain": [
       "<Figure size 640x480 with 1 Axes>"
      ]
     },
     "metadata": {},
     "output_type": "display_data"
    }
   ],
   "source": [
    "sns.boxplot(data=data, x=\"price\", y=\"topping\")"
   ]
  },
  {
   "cell_type": "code",
   "execution_count": 31,
   "id": "d2c5804f",
   "metadata": {
    "execution": {
     "iopub.execute_input": "2023-11-06T06:03:31.966675Z",
     "iopub.status.busy": "2023-11-06T06:03:31.966237Z",
     "iopub.status.idle": "2023-11-06T06:03:32.295305Z",
     "shell.execute_reply": "2023-11-06T06:03:32.293977Z"
    },
    "papermill": {
     "duration": 0.360997,
     "end_time": "2023-11-06T06:03:32.298475",
     "exception": false,
     "start_time": "2023-11-06T06:03:31.937478",
     "status": "completed"
    },
    "tags": []
   },
   "outputs": [
    {
     "data": {
      "text/plain": [
       "<Axes: xlabel='price', ylabel='size'>"
      ]
     },
     "execution_count": 31,
     "metadata": {},
     "output_type": "execute_result"
    },
    {
     "data": {
      "image/png": "[encoded data removed]",
      "text/plain": [
       "<Figure size 640x480 with 1 Axes>"
      ]
     },
     "metadata": {},
     "output_type": "display_data"
    }
   ],
   "source": [
    "sns.boxplot(data=data, x=\"price\", y=\"size\")"
   ]
  },
  {
   "cell_type": "code",
   "execution_count": 32,
   "id": "f04a807c",
   "metadata": {
    "execution": {
     "iopub.execute_input": "2023-11-06T06:03:32.357780Z",
     "iopub.status.busy": "2023-11-06T06:03:32.356616Z",
     "iopub.status.idle": "2023-11-06T06:03:32.372391Z",
     "shell.execute_reply": "2023-11-06T06:03:32.371524Z"
    },
    "papermill": {
     "duration": 0.047928,
     "end_time": "2023-11-06T06:03:32.374598",
     "exception": false,
     "start_time": "2023-11-06T06:03:32.326670",
     "status": "completed"
    },
    "tags": []
   },
   "outputs": [
    {
     "data": {
      "text/html": [
       "<div>\n",
       "<style scoped>\n",
       "    .dataframe tbody tr th:only-of-type {\n",
       "        vertical-align: middle;\n",
       "    }\n",
       "\n",
       "    .dataframe tbody tr th {\n",
       "        vertical-align: top;\n",
       "    }\n",
       "\n",
       "    .dataframe thead th {\n",
       "        text-align: right;\n",
       "    }\n",
       "</style>\n",
       "<table border=\"1\" class=\"dataframe\">\n",
       "  <thead>\n",
       "    <tr style=\"text-align: right;\">\n",
       "      <th></th>\n",
       "      <th>company</th>\n",
       "      <th>price</th>\n",
       "      <th>diameter</th>\n",
       "      <th>topping</th>\n",
       "      <th>variant</th>\n",
       "      <th>size</th>\n",
       "      <th>extra_sauce</th>\n",
       "      <th>extra_cheese</th>\n",
       "      <th>extra_mushrooms</th>\n",
       "    </tr>\n",
       "  </thead>\n",
       "  <tbody>\n",
       "    <tr>\n",
       "      <th>4</th>\n",
       "      <td>A</td>\n",
       "      <td>1339.2</td>\n",
       "      <td>18.0</td>\n",
       "      <td>mozzarella</td>\n",
       "      <td>double_signature</td>\n",
       "      <td>jumbo</td>\n",
       "      <td>yes</td>\n",
       "      <td>no</td>\n",
       "      <td>yes</td>\n",
       "    </tr>\n",
       "  </tbody>\n",
       "</table>\n",
       "</div>"
      ],
      "text/plain": [
       "  company   price  diameter     topping           variant   size extra_sauce  \\\n",
       "4       A  1339.2      18.0  mozzarella  double_signature  jumbo         yes   \n",
       "\n",
       "  extra_cheese extra_mushrooms  \n",
       "4           no             yes  "
      ]
     },
     "execution_count": 32,
     "metadata": {},
     "output_type": "execute_result"
    }
   ],
   "source": [
    "data[data['price'].max()==data['price']]"
   ]
  },
  {
   "cell_type": "code",
   "execution_count": 33,
   "id": "074b2016",
   "metadata": {
    "execution": {
     "iopub.execute_input": "2023-11-06T06:03:32.433645Z",
     "iopub.status.busy": "2023-11-06T06:03:32.433164Z",
     "iopub.status.idle": "2023-11-06T06:03:32.443691Z",
     "shell.execute_reply": "2023-11-06T06:03:32.442589Z"
    },
    "papermill": {
     "duration": 0.04303,
     "end_time": "2023-11-06T06:03:32.446084",
     "exception": false,
     "start_time": "2023-11-06T06:03:32.403054",
     "status": "completed"
    },
    "tags": []
   },
   "outputs": [
    {
     "data": {
      "text/plain": [
       "0    22.0\n",
       "1    20.0\n",
       "4    18.0\n",
       "5    18.5\n",
       "6    16.0\n",
       "Name: diameter, dtype: float32"
      ]
     },
     "execution_count": 33,
     "metadata": {},
     "output_type": "execute_result"
    }
   ],
   "source": [
    "data[data['size']==\"jumbo\"]['diameter'].head()"
   ]
  },
  {
   "cell_type": "code",
   "execution_count": 34,
   "id": "3a95e6bd",
   "metadata": {
    "execution": {
     "iopub.execute_input": "2023-11-06T06:03:32.506659Z",
     "iopub.status.busy": "2023-11-06T06:03:32.505806Z",
     "iopub.status.idle": "2023-11-06T06:03:32.516058Z",
     "shell.execute_reply": "2023-11-06T06:03:32.514878Z"
    },
    "papermill": {
     "duration": 0.043749,
     "end_time": "2023-11-06T06:03:32.518419",
     "exception": false,
     "start_time": "2023-11-06T06:03:32.474670",
     "status": "completed"
    },
    "tags": []
   },
   "outputs": [
    {
     "data": {
      "text/plain": [
       "29    17.0\n",
       "35    17.0\n",
       "41    17.0\n",
       "47    17.0\n",
       "93    17.0\n",
       "Name: diameter, dtype: float32"
      ]
     },
     "execution_count": 34,
     "metadata": {},
     "output_type": "execute_result"
    }
   ],
   "source": [
    "data[data['size']==\"XL\"]['diameter'].head()"
   ]
  },
  {
   "cell_type": "code",
   "execution_count": 35,
   "id": "2f225d0f",
   "metadata": {
    "execution": {
     "iopub.execute_input": "2023-11-06T06:03:32.578097Z",
     "iopub.status.busy": "2023-11-06T06:03:32.577330Z",
     "iopub.status.idle": "2023-11-06T06:03:32.595419Z",
     "shell.execute_reply": "2023-11-06T06:03:32.594155Z"
    },
    "papermill": {
     "duration": 0.050637,
     "end_time": "2023-11-06T06:03:32.597794",
     "exception": false,
     "start_time": "2023-11-06T06:03:32.547157",
     "status": "completed"
    },
    "tags": []
   },
   "outputs": [
    {
     "data": {
      "text/html": [
       "<div>\n",
       "<style scoped>\n",
       "    .dataframe tbody tr th:only-of-type {\n",
       "        vertical-align: middle;\n",
       "    }\n",
       "\n",
       "    .dataframe tbody tr th {\n",
       "        vertical-align: top;\n",
       "    }\n",
       "\n",
       "    .dataframe thead th {\n",
       "        text-align: right;\n",
       "    }\n",
       "</style>\n",
       "<table border=\"1\" class=\"dataframe\">\n",
       "  <thead>\n",
       "    <tr style=\"text-align: right;\">\n",
       "      <th></th>\n",
       "      <th>company</th>\n",
       "      <th>price</th>\n",
       "      <th>diameter</th>\n",
       "      <th>topping</th>\n",
       "      <th>variant</th>\n",
       "      <th>size</th>\n",
       "      <th>extra_sauce</th>\n",
       "      <th>extra_cheese</th>\n",
       "      <th>extra_mushrooms</th>\n",
       "    </tr>\n",
       "  </thead>\n",
       "  <tbody>\n",
       "    <tr>\n",
       "      <th>6</th>\n",
       "      <td>A</td>\n",
       "      <td>594.0</td>\n",
       "      <td>16.0</td>\n",
       "      <td>smoked_beef</td>\n",
       "      <td>american_favorite</td>\n",
       "      <td>jumbo</td>\n",
       "      <td>no</td>\n",
       "      <td>yes</td>\n",
       "      <td>yes</td>\n",
       "    </tr>\n",
       "    <tr>\n",
       "      <th>11</th>\n",
       "      <td>A</td>\n",
       "      <td>594.0</td>\n",
       "      <td>16.0</td>\n",
       "      <td>black_papper</td>\n",
       "      <td>super_supreme</td>\n",
       "      <td>jumbo</td>\n",
       "      <td>yes</td>\n",
       "      <td>yes</td>\n",
       "      <td>no</td>\n",
       "    </tr>\n",
       "    <tr>\n",
       "      <th>16</th>\n",
       "      <td>A</td>\n",
       "      <td>594.0</td>\n",
       "      <td>16.0</td>\n",
       "      <td>smoked_beef</td>\n",
       "      <td>meat_lovers</td>\n",
       "      <td>jumbo</td>\n",
       "      <td>no</td>\n",
       "      <td>yes</td>\n",
       "      <td>yes</td>\n",
       "    </tr>\n",
       "    <tr>\n",
       "      <th>80</th>\n",
       "      <td>D</td>\n",
       "      <td>594.0</td>\n",
       "      <td>16.0</td>\n",
       "      <td>smoked_beef</td>\n",
       "      <td>meat_lovers</td>\n",
       "      <td>jumbo</td>\n",
       "      <td>no</td>\n",
       "      <td>yes</td>\n",
       "      <td>no</td>\n",
       "    </tr>\n",
       "  </tbody>\n",
       "</table>\n",
       "</div>"
      ],
      "text/plain": [
       "   company  price  diameter       topping            variant   size  \\\n",
       "6        A  594.0      16.0   smoked_beef  american_favorite  jumbo   \n",
       "11       A  594.0      16.0  black_papper      super_supreme  jumbo   \n",
       "16       A  594.0      16.0   smoked_beef        meat_lovers  jumbo   \n",
       "80       D  594.0      16.0   smoked_beef        meat_lovers  jumbo   \n",
       "\n",
       "   extra_sauce extra_cheese extra_mushrooms  \n",
       "6           no          yes             yes  \n",
       "11         yes          yes              no  \n",
       "16          no          yes             yes  \n",
       "80          no          yes              no  "
      ]
     },
     "execution_count": 35,
     "metadata": {},
     "output_type": "execute_result"
    }
   ],
   "source": [
    "#remove outliers\n",
    "data[(data['size']=='jumbo')& (data['diameter']<=16)]"
   ]
  },
  {
   "cell_type": "code",
   "execution_count": 36,
   "id": "403d8726",
   "metadata": {
    "execution": {
     "iopub.execute_input": "2023-11-06T06:03:32.658670Z",
     "iopub.status.busy": "2023-11-06T06:03:32.657470Z",
     "iopub.status.idle": "2023-11-06T06:03:32.663792Z",
     "shell.execute_reply": "2023-11-06T06:03:32.662797Z"
    },
    "papermill": {
     "duration": 0.039181,
     "end_time": "2023-11-06T06:03:32.666010",
     "exception": false,
     "start_time": "2023-11-06T06:03:32.626829",
     "status": "completed"
    },
    "tags": []
   },
   "outputs": [],
   "source": [
    "data=data.drop(data.index[[6,11,16,80]])"
   ]
  },
  {
   "cell_type": "code",
   "execution_count": 37,
   "id": "d0d6e469",
   "metadata": {
    "execution": {
     "iopub.execute_input": "2023-11-06T06:03:32.726656Z",
     "iopub.status.busy": "2023-11-06T06:03:32.725559Z",
     "iopub.status.idle": "2023-11-06T06:03:32.738147Z",
     "shell.execute_reply": "2023-11-06T06:03:32.737044Z"
    },
    "papermill": {
     "duration": 0.045672,
     "end_time": "2023-11-06T06:03:32.740685",
     "exception": false,
     "start_time": "2023-11-06T06:03:32.695013",
     "status": "completed"
    },
    "tags": []
   },
   "outputs": [
    {
     "data": {
      "text/html": [
       "<div>\n",
       "<style scoped>\n",
       "    .dataframe tbody tr th:only-of-type {\n",
       "        vertical-align: middle;\n",
       "    }\n",
       "\n",
       "    .dataframe tbody tr th {\n",
       "        vertical-align: top;\n",
       "    }\n",
       "\n",
       "    .dataframe thead th {\n",
       "        text-align: right;\n",
       "    }\n",
       "</style>\n",
       "<table border=\"1\" class=\"dataframe\">\n",
       "  <thead>\n",
       "    <tr style=\"text-align: right;\">\n",
       "      <th></th>\n",
       "      <th>company</th>\n",
       "      <th>price</th>\n",
       "      <th>diameter</th>\n",
       "      <th>topping</th>\n",
       "      <th>variant</th>\n",
       "      <th>size</th>\n",
       "      <th>extra_sauce</th>\n",
       "      <th>extra_cheese</th>\n",
       "      <th>extra_mushrooms</th>\n",
       "    </tr>\n",
       "  </thead>\n",
       "  <tbody>\n",
       "  </tbody>\n",
       "</table>\n",
       "</div>"
      ],
      "text/plain": [
       "Empty DataFrame\n",
       "Columns: [company, price, diameter, topping, variant, size, extra_sauce, extra_cheese, extra_mushrooms]\n",
       "Index: []"
      ]
     },
     "execution_count": 37,
     "metadata": {},
     "output_type": "execute_result"
    }
   ],
   "source": [
    "data[(data['size']=='jumbo')& (data['diameter']<=16)]"
   ]
  },
  {
   "cell_type": "code",
   "execution_count": 38,
   "id": "4a51c156",
   "metadata": {
    "execution": {
     "iopub.execute_input": "2023-11-06T06:03:32.802065Z",
     "iopub.status.busy": "2023-11-06T06:03:32.800838Z",
     "iopub.status.idle": "2023-11-06T06:03:32.806415Z",
     "shell.execute_reply": "2023-11-06T06:03:32.805578Z"
    },
    "papermill": {
     "duration": 0.038687,
     "end_time": "2023-11-06T06:03:32.808678",
     "exception": false,
     "start_time": "2023-11-06T06:03:32.769991",
     "status": "completed"
    },
    "tags": []
   },
   "outputs": [],
   "source": [
    "#lable encoding \n",
    "cat_cols=data.select_dtypes(include=['object']).columns"
   ]
  },
  {
   "cell_type": "code",
   "execution_count": 39,
   "id": "c4929f99",
   "metadata": {
    "execution": {
     "iopub.execute_input": "2023-11-06T06:03:32.870614Z",
     "iopub.status.busy": "2023-11-06T06:03:32.869961Z",
     "iopub.status.idle": "2023-11-06T06:03:32.888796Z",
     "shell.execute_reply": "2023-11-06T06:03:32.887126Z"
    },
    "papermill": {
     "duration": 0.053241,
     "end_time": "2023-11-06T06:03:32.891350",
     "exception": false,
     "start_time": "2023-11-06T06:03:32.838109",
     "status": "completed"
    },
    "tags": []
   },
   "outputs": [
    {
     "data": {
      "text/html": [
       "<div>\n",
       "<style scoped>\n",
       "    .dataframe tbody tr th:only-of-type {\n",
       "        vertical-align: middle;\n",
       "    }\n",
       "\n",
       "    .dataframe tbody tr th {\n",
       "        vertical-align: top;\n",
       "    }\n",
       "\n",
       "    .dataframe thead th {\n",
       "        text-align: right;\n",
       "    }\n",
       "</style>\n",
       "<table border=\"1\" class=\"dataframe\">\n",
       "  <thead>\n",
       "    <tr style=\"text-align: right;\">\n",
       "      <th></th>\n",
       "      <th>company</th>\n",
       "      <th>price</th>\n",
       "      <th>diameter</th>\n",
       "      <th>topping</th>\n",
       "      <th>variant</th>\n",
       "      <th>size</th>\n",
       "      <th>extra_sauce</th>\n",
       "      <th>extra_cheese</th>\n",
       "      <th>extra_mushrooms</th>\n",
       "    </tr>\n",
       "  </thead>\n",
       "  <tbody>\n",
       "    <tr>\n",
       "      <th>0</th>\n",
       "      <td>A</td>\n",
       "      <td>1269.0</td>\n",
       "      <td>22.0</td>\n",
       "      <td>chicken</td>\n",
       "      <td>double_signature</td>\n",
       "      <td>jumbo</td>\n",
       "      <td>yes</td>\n",
       "      <td>yes</td>\n",
       "      <td>no</td>\n",
       "    </tr>\n",
       "    <tr>\n",
       "      <th>1</th>\n",
       "      <td>A</td>\n",
       "      <td>1069.2</td>\n",
       "      <td>20.0</td>\n",
       "      <td>papperoni</td>\n",
       "      <td>double_signature</td>\n",
       "      <td>jumbo</td>\n",
       "      <td>yes</td>\n",
       "      <td>yes</td>\n",
       "      <td>no</td>\n",
       "    </tr>\n",
       "    <tr>\n",
       "      <th>2</th>\n",
       "      <td>A</td>\n",
       "      <td>648.0</td>\n",
       "      <td>16.0</td>\n",
       "      <td>mushrooms</td>\n",
       "      <td>double_signature</td>\n",
       "      <td>reguler</td>\n",
       "      <td>yes</td>\n",
       "      <td>yes</td>\n",
       "      <td>yes</td>\n",
       "    </tr>\n",
       "    <tr>\n",
       "      <th>3</th>\n",
       "      <td>A</td>\n",
       "      <td>837.0</td>\n",
       "      <td>14.0</td>\n",
       "      <td>smoked_beef</td>\n",
       "      <td>double_signature</td>\n",
       "      <td>reguler</td>\n",
       "      <td>yes</td>\n",
       "      <td>no</td>\n",
       "      <td>yes</td>\n",
       "    </tr>\n",
       "    <tr>\n",
       "      <th>4</th>\n",
       "      <td>A</td>\n",
       "      <td>1339.2</td>\n",
       "      <td>18.0</td>\n",
       "      <td>mozzarella</td>\n",
       "      <td>double_signature</td>\n",
       "      <td>jumbo</td>\n",
       "      <td>yes</td>\n",
       "      <td>no</td>\n",
       "      <td>yes</td>\n",
       "    </tr>\n",
       "  </tbody>\n",
       "</table>\n",
       "</div>"
      ],
      "text/plain": [
       "  company   price  diameter      topping           variant     size  \\\n",
       "0       A  1269.0      22.0      chicken  double_signature    jumbo   \n",
       "1       A  1069.2      20.0    papperoni  double_signature    jumbo   \n",
       "2       A   648.0      16.0    mushrooms  double_signature  reguler   \n",
       "3       A   837.0      14.0  smoked_beef  double_signature  reguler   \n",
       "4       A  1339.2      18.0   mozzarella  double_signature    jumbo   \n",
       "\n",
       "  extra_sauce extra_cheese extra_mushrooms  \n",
       "0         yes          yes              no  \n",
       "1         yes          yes              no  \n",
       "2         yes          yes             yes  \n",
       "3         yes           no             yes  \n",
       "4         yes           no             yes  "
      ]
     },
     "execution_count": 39,
     "metadata": {},
     "output_type": "execute_result"
    }
   ],
   "source": [
    "data.head()"
   ]
  },
  {
   "cell_type": "code",
   "execution_count": 40,
   "id": "4366e181",
   "metadata": {
    "execution": {
     "iopub.execute_input": "2023-11-06T06:03:32.953446Z",
     "iopub.status.busy": "2023-11-06T06:03:32.952721Z",
     "iopub.status.idle": "2023-11-06T06:03:33.129664Z",
     "shell.execute_reply": "2023-11-06T06:03:33.128359Z"
    },
    "papermill": {
     "duration": 0.211651,
     "end_time": "2023-11-06T06:03:33.132686",
     "exception": false,
     "start_time": "2023-11-06T06:03:32.921035",
     "status": "completed"
    },
    "tags": []
   },
   "outputs": [],
   "source": [
    "from sklearn.preprocessing import LabelEncoder"
   ]
  },
  {
   "cell_type": "code",
   "execution_count": 41,
   "id": "83dea5a6",
   "metadata": {
    "execution": {
     "iopub.execute_input": "2023-11-06T06:03:33.195412Z",
     "iopub.status.busy": "2023-11-06T06:03:33.194980Z",
     "iopub.status.idle": "2023-11-06T06:03:33.216055Z",
     "shell.execute_reply": "2023-11-06T06:03:33.214745Z"
    },
    "papermill": {
     "duration": 0.055396,
     "end_time": "2023-11-06T06:03:33.218505",
     "exception": false,
     "start_time": "2023-11-06T06:03:33.163109",
     "status": "completed"
    },
    "tags": []
   },
   "outputs": [
    {
     "data": {
      "text/html": [
       "<div>\n",
       "<style scoped>\n",
       "    .dataframe tbody tr th:only-of-type {\n",
       "        vertical-align: middle;\n",
       "    }\n",
       "\n",
       "    .dataframe tbody tr th {\n",
       "        vertical-align: top;\n",
       "    }\n",
       "\n",
       "    .dataframe thead th {\n",
       "        text-align: right;\n",
       "    }\n",
       "</style>\n",
       "<table border=\"1\" class=\"dataframe\">\n",
       "  <thead>\n",
       "    <tr style=\"text-align: right;\">\n",
       "      <th></th>\n",
       "      <th>company</th>\n",
       "      <th>price</th>\n",
       "      <th>diameter</th>\n",
       "      <th>topping</th>\n",
       "      <th>variant</th>\n",
       "      <th>size</th>\n",
       "      <th>extra_sauce</th>\n",
       "      <th>extra_cheese</th>\n",
       "      <th>extra_mushrooms</th>\n",
       "    </tr>\n",
       "  </thead>\n",
       "  <tbody>\n",
       "    <tr>\n",
       "      <th>0</th>\n",
       "      <td>0</td>\n",
       "      <td>1269.0</td>\n",
       "      <td>22.0</td>\n",
       "      <td>2</td>\n",
       "      <td>8</td>\n",
       "      <td>1</td>\n",
       "      <td>1</td>\n",
       "      <td>1</td>\n",
       "      <td>0</td>\n",
       "    </tr>\n",
       "    <tr>\n",
       "      <th>1</th>\n",
       "      <td>0</td>\n",
       "      <td>1069.2</td>\n",
       "      <td>20.0</td>\n",
       "      <td>7</td>\n",
       "      <td>8</td>\n",
       "      <td>1</td>\n",
       "      <td>1</td>\n",
       "      <td>1</td>\n",
       "      <td>0</td>\n",
       "    </tr>\n",
       "    <tr>\n",
       "      <th>2</th>\n",
       "      <td>0</td>\n",
       "      <td>648.0</td>\n",
       "      <td>16.0</td>\n",
       "      <td>5</td>\n",
       "      <td>8</td>\n",
       "      <td>4</td>\n",
       "      <td>1</td>\n",
       "      <td>1</td>\n",
       "      <td>1</td>\n",
       "    </tr>\n",
       "    <tr>\n",
       "      <th>3</th>\n",
       "      <td>0</td>\n",
       "      <td>837.0</td>\n",
       "      <td>14.0</td>\n",
       "      <td>9</td>\n",
       "      <td>8</td>\n",
       "      <td>4</td>\n",
       "      <td>1</td>\n",
       "      <td>0</td>\n",
       "      <td>1</td>\n",
       "    </tr>\n",
       "    <tr>\n",
       "      <th>4</th>\n",
       "      <td>0</td>\n",
       "      <td>1339.2</td>\n",
       "      <td>18.0</td>\n",
       "      <td>4</td>\n",
       "      <td>8</td>\n",
       "      <td>1</td>\n",
       "      <td>1</td>\n",
       "      <td>0</td>\n",
       "      <td>1</td>\n",
       "    </tr>\n",
       "  </tbody>\n",
       "</table>\n",
       "</div>"
      ],
      "text/plain": [
       "   company   price  diameter  topping  variant  size  extra_sauce  \\\n",
       "0        0  1269.0      22.0        2        8     1            1   \n",
       "1        0  1069.2      20.0        7        8     1            1   \n",
       "2        0   648.0      16.0        5        8     4            1   \n",
       "3        0   837.0      14.0        9        8     4            1   \n",
       "4        0  1339.2      18.0        4        8     1            1   \n",
       "\n",
       "   extra_cheese  extra_mushrooms  \n",
       "0             1                0  \n",
       "1             1                0  \n",
       "2             1                1  \n",
       "3             0                1  \n",
       "4             0                1  "
      ]
     },
     "execution_count": 41,
     "metadata": {},
     "output_type": "execute_result"
    }
   ],
   "source": [
    "#covert a catgorical to numerical value \n",
    "en=LabelEncoder()\n",
    "for i in cat_cols:\n",
    "    data[i]=en.fit_transform(data[i])\n",
    "data.head()\n",
    "    "
   ]
  },
  {
   "cell_type": "code",
   "execution_count": 42,
   "id": "f32d8b39",
   "metadata": {
    "execution": {
     "iopub.execute_input": "2023-11-06T06:03:33.282143Z",
     "iopub.status.busy": "2023-11-06T06:03:33.280928Z",
     "iopub.status.idle": "2023-11-06T06:03:33.288390Z",
     "shell.execute_reply": "2023-11-06T06:03:33.287324Z"
    },
    "papermill": {
     "duration": 0.041415,
     "end_time": "2023-11-06T06:03:33.290764",
     "exception": false,
     "start_time": "2023-11-06T06:03:33.249349",
     "status": "completed"
    },
    "tags": []
   },
   "outputs": [],
   "source": [
    "#independ data store x \n",
    "#depended data store y \n",
    "#feature matrix in x and y \n",
    "x=data.drop('price',axis=1)\n",
    "y=data['price']"
   ]
  },
  {
   "cell_type": "code",
   "execution_count": 43,
   "id": "4b4b79fb",
   "metadata": {
    "execution": {
     "iopub.execute_input": "2023-11-06T06:03:33.353671Z",
     "iopub.status.busy": "2023-11-06T06:03:33.352466Z",
     "iopub.status.idle": "2023-11-06T06:03:33.569253Z",
     "shell.execute_reply": "2023-11-06T06:03:33.568096Z"
    },
    "papermill": {
     "duration": 0.251164,
     "end_time": "2023-11-06T06:03:33.572169",
     "exception": false,
     "start_time": "2023-11-06T06:03:33.321005",
     "status": "completed"
    },
    "tags": []
   },
   "outputs": [],
   "source": [
    "#split dataset into training set & test set\n",
    "from sklearn.model_selection import train_test_split"
   ]
  },
  {
   "cell_type": "code",
   "execution_count": 44,
   "id": "058b7890",
   "metadata": {
    "execution": {
     "iopub.execute_input": "2023-11-06T06:03:33.635537Z",
     "iopub.status.busy": "2023-11-06T06:03:33.635138Z",
     "iopub.status.idle": "2023-11-06T06:03:33.645741Z",
     "shell.execute_reply": "2023-11-06T06:03:33.643997Z"
    },
    "papermill": {
     "duration": 0.045443,
     "end_time": "2023-11-06T06:03:33.648392",
     "exception": false,
     "start_time": "2023-11-06T06:03:33.602949",
     "status": "completed"
    },
    "tags": []
   },
   "outputs": [
    {
     "name": "stdout",
     "output_type": "stream",
     "text": [
      "(83, 8)\n",
      "(42, 8)\n",
      "(83,)\n",
      "(42,)\n"
     ]
    }
   ],
   "source": [
    "X_train, X_test, y_train, y_test = train_test_split(\n",
    "...     x, y, test_size=0.33, random_state=42)\n",
    "print (X_train.shape)\n",
    "print (X_test.shape)\n",
    "print (y_train.shape)\n",
    "print (y_test.shape)"
   ]
  },
  {
   "cell_type": "code",
   "execution_count": 45,
   "id": "3decbed0",
   "metadata": {
    "execution": {
     "iopub.execute_input": "2023-11-06T06:03:33.711146Z",
     "iopub.status.busy": "2023-11-06T06:03:33.710688Z",
     "iopub.status.idle": "2023-11-06T06:03:33.817677Z",
     "shell.execute_reply": "2023-11-06T06:03:33.816363Z"
    },
    "papermill": {
     "duration": 0.141987,
     "end_time": "2023-11-06T06:03:33.820496",
     "exception": false,
     "start_time": "2023-11-06T06:03:33.678509",
     "status": "completed"
    },
    "tags": []
   },
   "outputs": [],
   "source": [
    "#import models \n",
    "# price variable is response variable or target variable \n",
    "from sklearn.linear_model import LinearRegression \n",
    "\n",
    "\n"
   ]
  },
  {
   "cell_type": "code",
   "execution_count": 46,
   "id": "dff38cac",
   "metadata": {
    "execution": {
     "iopub.execute_input": "2023-11-06T06:03:33.884665Z",
     "iopub.status.busy": "2023-11-06T06:03:33.884226Z",
     "iopub.status.idle": "2023-11-06T06:03:33.936047Z",
     "shell.execute_reply": "2023-11-06T06:03:33.934713Z"
    },
    "papermill": {
     "duration": 0.087899,
     "end_time": "2023-11-06T06:03:33.938679",
     "exception": false,
     "start_time": "2023-11-06T06:03:33.850780",
     "status": "completed"
    },
    "tags": []
   },
   "outputs": [
    {
     "data": {
      "text/html": [
       "<style>#sk-container-id-1 {color: black;background-color: white;}#sk-container-id-1 pre{padding: 0;}#sk-container-id-1 div.sk-toggleable {background-color: white;}#sk-container-id-1 label.sk-toggleable__label {cursor: pointer;display: block;width: 100%;margin-bottom: 0;padding: 0.3em;box-sizing: border-box;text-align: center;}#sk-container-id-1 label.sk-toggleable__label-arrow:before {content: \"▸\";float: left;margin-right: 0.25em;color: #696969;}#sk-container-id-1 label.sk-toggleable__label-arrow:hover:before {color: black;}#sk-container-id-1 div.sk-estimator:hover label.sk-toggleable__label-arrow:before {color: black;}#sk-container-id-1 div.sk-toggleable__content {max-height: 0;max-width: 0;overflow: hidden;text-align: left;background-color: #f0f8ff;}#sk-container-id-1 div.sk-toggleable__content pre {margin: 0.2em;color: black;border-radius: 0.25em;background-color: #f0f8ff;}#sk-container-id-1 input.sk-toggleable__control:checked~div.sk-toggleable__content {max-height: 200px;max-width: 100%;overflow: auto;}#sk-container-id-1 input.sk-toggleable__control:checked~label.sk-toggleable__label-arrow:before {content: \"▾\";}#sk-container-id-1 div.sk-estimator input.sk-toggleable__control:checked~label.sk-toggleable__label {background-color: #d4ebff;}#sk-container-id-1 div.sk-label input.sk-toggleable__control:checked~label.sk-toggleable__label {background-color: #d4ebff;}#sk-container-id-1 input.sk-hidden--visually {border: 0;clip: rect(1px 1px 1px 1px);clip: rect(1px, 1px, 1px, 1px);height: 1px;margin: -1px;overflow: hidden;padding: 0;position: absolute;width: 1px;}#sk-container-id-1 div.sk-estimator {font-family: monospace;background-color: #f0f8ff;border: 1px dotted black;border-radius: 0.25em;box-sizing: border-box;margin-bottom: 0.5em;}#sk-container-id-1 div.sk-estimator:hover {background-color: #d4ebff;}#sk-container-id-1 div.sk-parallel-item::after {content: \"\";width: 100%;border-bottom: 1px solid gray;flex-grow: 1;}#sk-container-id-1 div.sk-label:hover label.sk-toggleable__label {background-color: #d4ebff;}#sk-container-id-1 div.sk-serial::before {content: \"\";position: absolute;border-left: 1px solid gray;box-sizing: border-box;top: 0;bottom: 0;left: 50%;z-index: 0;}#sk-container-id-1 div.sk-serial {display: flex;flex-direction: column;align-items: center;background-color: white;padding-right: 0.2em;padding-left: 0.2em;position: relative;}#sk-container-id-1 div.sk-item {position: relative;z-index: 1;}#sk-container-id-1 div.sk-parallel {display: flex;align-items: stretch;justify-content: center;background-color: white;position: relative;}#sk-container-id-1 div.sk-item::before, #sk-container-id-1 div.sk-parallel-item::before {content: \"\";position: absolute;border-left: 1px solid gray;box-sizing: border-box;top: 0;bottom: 0;left: 50%;z-index: -1;}#sk-container-id-1 div.sk-parallel-item {display: flex;flex-direction: column;z-index: 1;position: relative;background-color: white;}#sk-container-id-1 div.sk-parallel-item:first-child::after {align-self: flex-end;width: 50%;}#sk-container-id-1 div.sk-parallel-item:last-child::after {align-self: flex-start;width: 50%;}#sk-container-id-1 div.sk-parallel-item:only-child::after {width: 0;}#sk-container-id-1 div.sk-dashed-wrapped {border: 1px dashed gray;margin: 0 0.4em 0.5em 0.4em;box-sizing: border-box;padding-bottom: 0.4em;background-color: white;}#sk-container-id-1 div.sk-label label {font-family: monospace;font-weight: bold;display: inline-block;line-height: 1.2em;}#sk-container-id-1 div.sk-label-container {text-align: center;}#sk-container-id-1 div.sk-container {/* jupyter's `normalize.less` sets `[hidden] { display: none; }` but bootstrap.min.css set `[hidden] { display: none !important; }` so we also need the `!important` here to be able to override the default hidden behavior on the sphinx rendered scikit-learn.org. See: https://github.com/scikit-learn/scikit-learn/issues/21755 */display: inline-block !important;position: relative;}#sk-container-id-1 div.sk-text-repr-fallback {display: none;}</style><div id=\"sk-container-id-1\" class=\"sk-top-container\"><div class=\"sk-text-repr-fallback\"><pre>LinearRegression()</pre><b>In a Jupyter environment, please rerun this cell to show the HTML representation or trust the notebook. <br />On GitHub, the HTML representation is unable to render, please try loading this page with nbviewer.org.</b></div><div class=\"sk-container\" hidden><div class=\"sk-item\"><div class=\"sk-estimator sk-toggleable\"><input class=\"sk-toggleable__control sk-hidden--visually\" id=\"sk-estimator-id-1\" type=\"checkbox\" checked><label for=\"sk-estimator-id-1\" class=\"sk-toggleable__label sk-toggleable__label-arrow\">LinearRegression</label><div class=\"sk-toggleable__content\"><pre>LinearRegression()</pre></div></div></div></div></div>"
      ],
      "text/plain": [
       "LinearRegression()"
      ]
     },
     "execution_count": 46,
     "metadata": {},
     "output_type": "execute_result"
    }
   ],
   "source": [
    "#model trainig \n",
    "#linearregressor \n",
    "lr=LinearRegression()\n",
    "lr.fit(X_train,y_train)\n",
    "\n"
   ]
  },
  {
   "cell_type": "code",
   "execution_count": 47,
   "id": "bffc2768",
   "metadata": {
    "execution": {
     "iopub.execute_input": "2023-11-06T06:03:34.002620Z",
     "iopub.status.busy": "2023-11-06T06:03:34.002170Z",
     "iopub.status.idle": "2023-11-06T06:03:34.009675Z",
     "shell.execute_reply": "2023-11-06T06:03:34.008551Z"
    },
    "papermill": {
     "duration": 0.042451,
     "end_time": "2023-11-06T06:03:34.012040",
     "exception": false,
     "start_time": "2023-11-06T06:03:33.969589",
     "status": "completed"
    },
    "tags": []
   },
   "outputs": [],
   "source": [
    "#prediction on texgt data \n",
    "y_pred1=lr.predict(X_test)\n"
   ]
  },
  {
   "cell_type": "code",
   "execution_count": 48,
   "id": "30713b32",
   "metadata": {
    "execution": {
     "iopub.execute_input": "2023-11-06T06:03:34.075647Z",
     "iopub.status.busy": "2023-11-06T06:03:34.075172Z",
     "iopub.status.idle": "2023-11-06T06:03:34.080480Z",
     "shell.execute_reply": "2023-11-06T06:03:34.079311Z"
    },
    "papermill": {
     "duration": 0.039901,
     "end_time": "2023-11-06T06:03:34.082771",
     "exception": false,
     "start_time": "2023-11-06T06:03:34.042870",
     "status": "completed"
    },
    "tags": []
   },
   "outputs": [],
   "source": [
    "#evaluating the algorithm\n",
    "from sklearn import metrics"
   ]
  },
  {
   "cell_type": "code",
   "execution_count": 49,
   "id": "e5f572f6",
   "metadata": {
    "execution": {
     "iopub.execute_input": "2023-11-06T06:03:34.147742Z",
     "iopub.status.busy": "2023-11-06T06:03:34.147267Z",
     "iopub.status.idle": "2023-11-06T06:03:34.154439Z",
     "shell.execute_reply": "2023-11-06T06:03:34.153246Z"
    },
    "papermill": {
     "duration": 0.042333,
     "end_time": "2023-11-06T06:03:34.157035",
     "exception": false,
     "start_time": "2023-11-06T06:03:34.114702",
     "status": "completed"
    },
    "tags": []
   },
   "outputs": [],
   "source": [
    "score1=metrics.r2_score(y_test,y_pred1)\n"
   ]
  },
  {
   "cell_type": "code",
   "execution_count": 50,
   "id": "55b2fa04",
   "metadata": {
    "execution": {
     "iopub.execute_input": "2023-11-06T06:03:34.221588Z",
     "iopub.status.busy": "2023-11-06T06:03:34.221185Z",
     "iopub.status.idle": "2023-11-06T06:03:34.226631Z",
     "shell.execute_reply": "2023-11-06T06:03:34.225375Z"
    },
    "papermill": {
     "duration": 0.041527,
     "end_time": "2023-11-06T06:03:34.229772",
     "exception": false,
     "start_time": "2023-11-06T06:03:34.188245",
     "status": "completed"
    },
    "tags": []
   },
   "outputs": [
    {
     "name": "stdout",
     "output_type": "stream",
     "text": [
      "0.717615128557545\n"
     ]
    }
   ],
   "source": [
    "print(score1)"
   ]
  },
  {
   "cell_type": "code",
   "execution_count": 51,
   "id": "d642389f",
   "metadata": {
    "execution": {
     "iopub.execute_input": "2023-11-06T06:03:34.294234Z",
     "iopub.status.busy": "2023-11-06T06:03:34.293799Z",
     "iopub.status.idle": "2023-11-06T06:03:34.299775Z",
     "shell.execute_reply": "2023-11-06T06:03:34.298818Z"
    },
    "papermill": {
     "duration": 0.040563,
     "end_time": "2023-11-06T06:03:34.301897",
     "exception": false,
     "start_time": "2023-11-06T06:03:34.261334",
     "status": "completed"
    },
    "tags": []
   },
   "outputs": [],
   "source": [
    "final_data=pd.DataFrame({'Models':['LR'],'R2_SCORE':[score1]})"
   ]
  },
  {
   "cell_type": "code",
   "execution_count": 52,
   "id": "21e47882",
   "metadata": {
    "execution": {
     "iopub.execute_input": "2023-11-06T06:03:34.366016Z",
     "iopub.status.busy": "2023-11-06T06:03:34.365525Z",
     "iopub.status.idle": "2023-11-06T06:03:34.375776Z",
     "shell.execute_reply": "2023-11-06T06:03:34.374646Z"
    },
    "papermill": {
     "duration": 0.044884,
     "end_time": "2023-11-06T06:03:34.378007",
     "exception": false,
     "start_time": "2023-11-06T06:03:34.333123",
     "status": "completed"
    },
    "tags": []
   },
   "outputs": [
    {
     "data": {
      "text/html": [
       "<div>\n",
       "<style scoped>\n",
       "    .dataframe tbody tr th:only-of-type {\n",
       "        vertical-align: middle;\n",
       "    }\n",
       "\n",
       "    .dataframe tbody tr th {\n",
       "        vertical-align: top;\n",
       "    }\n",
       "\n",
       "    .dataframe thead th {\n",
       "        text-align: right;\n",
       "    }\n",
       "</style>\n",
       "<table border=\"1\" class=\"dataframe\">\n",
       "  <thead>\n",
       "    <tr style=\"text-align: right;\">\n",
       "      <th></th>\n",
       "      <th>Models</th>\n",
       "      <th>R2_SCORE</th>\n",
       "    </tr>\n",
       "  </thead>\n",
       "  <tbody>\n",
       "    <tr>\n",
       "      <th>0</th>\n",
       "      <td>LR</td>\n",
       "      <td>0.717615</td>\n",
       "    </tr>\n",
       "  </tbody>\n",
       "</table>\n",
       "</div>"
      ],
      "text/plain": [
       "  Models  R2_SCORE\n",
       "0     LR  0.717615"
      ]
     },
     "execution_count": 52,
     "metadata": {},
     "output_type": "execute_result"
    }
   ],
   "source": [
    "final_data"
   ]
  },
  {
   "cell_type": "code",
   "execution_count": 53,
   "id": "8ea1cbf8",
   "metadata": {
    "execution": {
     "iopub.execute_input": "2023-11-06T06:03:34.443117Z",
     "iopub.status.busy": "2023-11-06T06:03:34.442654Z",
     "iopub.status.idle": "2023-11-06T06:03:34.447612Z",
     "shell.execute_reply": "2023-11-06T06:03:34.446631Z"
    },
    "papermill": {
     "duration": 0.040262,
     "end_time": "2023-11-06T06:03:34.449705",
     "exception": false,
     "start_time": "2023-11-06T06:03:34.409443",
     "status": "completed"
    },
    "tags": []
   },
   "outputs": [],
   "source": [
    "import seaborn as sns"
   ]
  },
  {
   "cell_type": "code",
   "execution_count": 54,
   "id": "4cb7d16c",
   "metadata": {
    "execution": {
     "iopub.execute_input": "2023-11-06T06:03:34.514485Z",
     "iopub.status.busy": "2023-11-06T06:03:34.513290Z",
     "iopub.status.idle": "2023-11-06T06:03:34.751354Z",
     "shell.execute_reply": "2023-11-06T06:03:34.750031Z"
    },
    "papermill": {
     "duration": 0.274143,
     "end_time": "2023-11-06T06:03:34.754608",
     "exception": false,
     "start_time": "2023-11-06T06:03:34.480465",
     "status": "completed"
    },
    "tags": []
   },
   "outputs": [
    {
     "data": {
      "text/plain": [
       "<Axes: xlabel='Models', ylabel='R2_SCORE'>"
      ]
     },
     "execution_count": 54,
     "metadata": {},
     "output_type": "execute_result"
    },
    {
     "data": {
      "image/png": "[encoded data removed]",
      "text/plain": [
       "<Figure size 640x480 with 1 Axes>"
      ]
     },
     "metadata": {},
     "output_type": "display_data"
    }
   ],
   "source": [
    "sns.barplot(final_data,x='Models',y='R2_SCORE')"
   ]
  },
  {
   "cell_type": "code",
   "execution_count": 55,
   "id": "b9872082",
   "metadata": {
    "execution": {
     "iopub.execute_input": "2023-11-06T06:03:34.825521Z",
     "iopub.status.busy": "2023-11-06T06:03:34.824797Z",
     "iopub.status.idle": "2023-11-06T06:03:34.831640Z",
     "shell.execute_reply": "2023-11-06T06:03:34.830735Z"
    },
    "papermill": {
     "duration": 0.046536,
     "end_time": "2023-11-06T06:03:34.834191",
     "exception": false,
     "start_time": "2023-11-06T06:03:34.787655",
     "status": "completed"
    },
    "tags": []
   },
   "outputs": [],
   "source": [
    "#save the model \n",
    "X=data.drop('price',axis=1)\n",
    "y=data['price']"
   ]
  },
  {
   "cell_type": "code",
   "execution_count": 56,
   "id": "d96e68ee",
   "metadata": {
    "execution": {
     "iopub.execute_input": "2023-11-06T06:03:34.901716Z",
     "iopub.status.busy": "2023-11-06T06:03:34.901023Z",
     "iopub.status.idle": "2023-11-06T06:03:34.906311Z",
     "shell.execute_reply": "2023-11-06T06:03:34.905276Z"
    },
    "papermill": {
     "duration": 0.042388,
     "end_time": "2023-11-06T06:03:34.908782",
     "exception": false,
     "start_time": "2023-11-06T06:03:34.866394",
     "status": "completed"
    },
    "tags": []
   },
   "outputs": [],
   "source": [
    "lrp=LinearRegression()\n"
   ]
  },
  {
   "cell_type": "code",
   "execution_count": 57,
   "id": "c3a645f1",
   "metadata": {
    "execution": {
     "iopub.execute_input": "2023-11-06T06:03:34.974241Z",
     "iopub.status.busy": "2023-11-06T06:03:34.973296Z",
     "iopub.status.idle": "2023-11-06T06:03:34.984247Z",
     "shell.execute_reply": "2023-11-06T06:03:34.983232Z"
    },
    "papermill": {
     "duration": 0.046209,
     "end_time": "2023-11-06T06:03:34.986483",
     "exception": false,
     "start_time": "2023-11-06T06:03:34.940274",
     "status": "completed"
    },
    "tags": []
   },
   "outputs": [
    {
     "data": {
      "text/html": [
       "<style>#sk-container-id-2 {color: black;background-color: white;}#sk-container-id-2 pre{padding: 0;}#sk-container-id-2 div.sk-toggleable {background-color: white;}#sk-container-id-2 label.sk-toggleable__label {cursor: pointer;display: block;width: 100%;margin-bottom: 0;padding: 0.3em;box-sizing: border-box;text-align: center;}#sk-container-id-2 label.sk-toggleable__label-arrow:before {content: \"▸\";float: left;margin-right: 0.25em;color: #696969;}#sk-container-id-2 label.sk-toggleable__label-arrow:hover:before {color: black;}#sk-container-id-2 div.sk-estimator:hover label.sk-toggleable__label-arrow:before {color: black;}#sk-container-id-2 div.sk-toggleable__content {max-height: 0;max-width: 0;overflow: hidden;text-align: left;background-color: #f0f8ff;}#sk-container-id-2 div.sk-toggleable__content pre {margin: 0.2em;color: black;border-radius: 0.25em;background-color: #f0f8ff;}#sk-container-id-2 input.sk-toggleable__control:checked~div.sk-toggleable__content {max-height: 200px;max-width: 100%;overflow: auto;}#sk-container-id-2 input.sk-toggleable__control:checked~label.sk-toggleable__label-arrow:before {content: \"▾\";}#sk-container-id-2 div.sk-estimator input.sk-toggleable__control:checked~label.sk-toggleable__label {background-color: #d4ebff;}#sk-container-id-2 div.sk-label input.sk-toggleable__control:checked~label.sk-toggleable__label {background-color: #d4ebff;}#sk-container-id-2 input.sk-hidden--visually {border: 0;clip: rect(1px 1px 1px 1px);clip: rect(1px, 1px, 1px, 1px);height: 1px;margin: -1px;overflow: hidden;padding: 0;position: absolute;width: 1px;}#sk-container-id-2 div.sk-estimator {font-family: monospace;background-color: #f0f8ff;border: 1px dotted black;border-radius: 0.25em;box-sizing: border-box;margin-bottom: 0.5em;}#sk-container-id-2 div.sk-estimator:hover {background-color: #d4ebff;}#sk-container-id-2 div.sk-parallel-item::after {content: \"\";width: 100%;border-bottom: 1px solid gray;flex-grow: 1;}#sk-container-id-2 div.sk-label:hover label.sk-toggleable__label {background-color: #d4ebff;}#sk-container-id-2 div.sk-serial::before {content: \"\";position: absolute;border-left: 1px solid gray;box-sizing: border-box;top: 0;bottom: 0;left: 50%;z-index: 0;}#sk-container-id-2 div.sk-serial {display: flex;flex-direction: column;align-items: center;background-color: white;padding-right: 0.2em;padding-left: 0.2em;position: relative;}#sk-container-id-2 div.sk-item {position: relative;z-index: 1;}#sk-container-id-2 div.sk-parallel {display: flex;align-items: stretch;justify-content: center;background-color: white;position: relative;}#sk-container-id-2 div.sk-item::before, #sk-container-id-2 div.sk-parallel-item::before {content: \"\";position: absolute;border-left: 1px solid gray;box-sizing: border-box;top: 0;bottom: 0;left: 50%;z-index: -1;}#sk-container-id-2 div.sk-parallel-item {display: flex;flex-direction: column;z-index: 1;position: relative;background-color: white;}#sk-container-id-2 div.sk-parallel-item:first-child::after {align-self: flex-end;width: 50%;}#sk-container-id-2 div.sk-parallel-item:last-child::after {align-self: flex-start;width: 50%;}#sk-container-id-2 div.sk-parallel-item:only-child::after {width: 0;}#sk-container-id-2 div.sk-dashed-wrapped {border: 1px dashed gray;margin: 0 0.4em 0.5em 0.4em;box-sizing: border-box;padding-bottom: 0.4em;background-color: white;}#sk-container-id-2 div.sk-label label {font-family: monospace;font-weight: bold;display: inline-block;line-height: 1.2em;}#sk-container-id-2 div.sk-label-container {text-align: center;}#sk-container-id-2 div.sk-container {/* jupyter's `normalize.less` sets `[hidden] { display: none; }` but bootstrap.min.css set `[hidden] { display: none !important; }` so we also need the `!important` here to be able to override the default hidden behavior on the sphinx rendered scikit-learn.org. See: https://github.com/scikit-learn/scikit-learn/issues/21755 */display: inline-block !important;position: relative;}#sk-container-id-2 div.sk-text-repr-fallback {display: none;}</style><div id=\"sk-container-id-2\" class=\"sk-top-container\"><div class=\"sk-text-repr-fallback\"><pre>LinearRegression()</pre><b>In a Jupyter environment, please rerun this cell to show the HTML representation or trust the notebook. <br />On GitHub, the HTML representation is unable to render, please try loading this page with nbviewer.org.</b></div><div class=\"sk-container\" hidden><div class=\"sk-item\"><div class=\"sk-estimator sk-toggleable\"><input class=\"sk-toggleable__control sk-hidden--visually\" id=\"sk-estimator-id-2\" type=\"checkbox\" checked><label for=\"sk-estimator-id-2\" class=\"sk-toggleable__label sk-toggleable__label-arrow\">LinearRegression</label><div class=\"sk-toggleable__content\"><pre>LinearRegression()</pre></div></div></div></div></div>"
      ],
      "text/plain": [
       "LinearRegression()"
      ]
     },
     "execution_count": 57,
     "metadata": {},
     "output_type": "execute_result"
    }
   ],
   "source": [
    "lrp.fit(X,y)"
   ]
  },
  {
   "cell_type": "code",
   "execution_count": 58,
   "id": "0c892b34",
   "metadata": {
    "execution": {
     "iopub.execute_input": "2023-11-06T06:03:35.052475Z",
     "iopub.status.busy": "2023-11-06T06:03:35.051243Z",
     "iopub.status.idle": "2023-11-06T06:03:35.067175Z",
     "shell.execute_reply": "2023-11-06T06:03:35.066004Z"
    },
    "papermill": {
     "duration": 0.051566,
     "end_time": "2023-11-06T06:03:35.069695",
     "exception": false,
     "start_time": "2023-11-06T06:03:35.018129",
     "status": "completed"
    },
    "tags": []
   },
   "outputs": [
    {
     "data": {
      "text/html": [
       "<div>\n",
       "<style scoped>\n",
       "    .dataframe tbody tr th:only-of-type {\n",
       "        vertical-align: middle;\n",
       "    }\n",
       "\n",
       "    .dataframe tbody tr th {\n",
       "        vertical-align: top;\n",
       "    }\n",
       "\n",
       "    .dataframe thead th {\n",
       "        text-align: right;\n",
       "    }\n",
       "</style>\n",
       "<table border=\"1\" class=\"dataframe\">\n",
       "  <thead>\n",
       "    <tr style=\"text-align: right;\">\n",
       "      <th></th>\n",
       "      <th>company</th>\n",
       "      <th>price</th>\n",
       "      <th>diameter</th>\n",
       "      <th>topping</th>\n",
       "      <th>variant</th>\n",
       "      <th>size</th>\n",
       "      <th>extra_sauce</th>\n",
       "      <th>extra_cheese</th>\n",
       "      <th>extra_mushrooms</th>\n",
       "    </tr>\n",
       "  </thead>\n",
       "  <tbody>\n",
       "    <tr>\n",
       "      <th>0</th>\n",
       "      <td>0</td>\n",
       "      <td>1269.0</td>\n",
       "      <td>22.0</td>\n",
       "      <td>2</td>\n",
       "      <td>8</td>\n",
       "      <td>1</td>\n",
       "      <td>1</td>\n",
       "      <td>1</td>\n",
       "      <td>0</td>\n",
       "    </tr>\n",
       "    <tr>\n",
       "      <th>1</th>\n",
       "      <td>0</td>\n",
       "      <td>1069.2</td>\n",
       "      <td>20.0</td>\n",
       "      <td>7</td>\n",
       "      <td>8</td>\n",
       "      <td>1</td>\n",
       "      <td>1</td>\n",
       "      <td>1</td>\n",
       "      <td>0</td>\n",
       "    </tr>\n",
       "    <tr>\n",
       "      <th>2</th>\n",
       "      <td>0</td>\n",
       "      <td>648.0</td>\n",
       "      <td>16.0</td>\n",
       "      <td>5</td>\n",
       "      <td>8</td>\n",
       "      <td>4</td>\n",
       "      <td>1</td>\n",
       "      <td>1</td>\n",
       "      <td>1</td>\n",
       "    </tr>\n",
       "    <tr>\n",
       "      <th>3</th>\n",
       "      <td>0</td>\n",
       "      <td>837.0</td>\n",
       "      <td>14.0</td>\n",
       "      <td>9</td>\n",
       "      <td>8</td>\n",
       "      <td>4</td>\n",
       "      <td>1</td>\n",
       "      <td>0</td>\n",
       "      <td>1</td>\n",
       "    </tr>\n",
       "    <tr>\n",
       "      <th>4</th>\n",
       "      <td>0</td>\n",
       "      <td>1339.2</td>\n",
       "      <td>18.0</td>\n",
       "      <td>4</td>\n",
       "      <td>8</td>\n",
       "      <td>1</td>\n",
       "      <td>1</td>\n",
       "      <td>0</td>\n",
       "      <td>1</td>\n",
       "    </tr>\n",
       "  </tbody>\n",
       "</table>\n",
       "</div>"
      ],
      "text/plain": [
       "   company   price  diameter  topping  variant  size  extra_sauce  \\\n",
       "0        0  1269.0      22.0        2        8     1            1   \n",
       "1        0  1069.2      20.0        7        8     1            1   \n",
       "2        0   648.0      16.0        5        8     4            1   \n",
       "3        0   837.0      14.0        9        8     4            1   \n",
       "4        0  1339.2      18.0        4        8     1            1   \n",
       "\n",
       "   extra_cheese  extra_mushrooms  \n",
       "0             1                0  \n",
       "1             1                0  \n",
       "2             1                1  \n",
       "3             0                1  \n",
       "4             0                1  "
      ]
     },
     "execution_count": 58,
     "metadata": {},
     "output_type": "execute_result"
    }
   ],
   "source": [
    "data.head()"
   ]
  },
  {
   "cell_type": "code",
   "execution_count": 59,
   "id": "b15550d9",
   "metadata": {
    "execution": {
     "iopub.execute_input": "2023-11-06T06:03:35.137748Z",
     "iopub.status.busy": "2023-11-06T06:03:35.136933Z",
     "iopub.status.idle": "2023-11-06T06:03:35.144782Z",
     "shell.execute_reply": "2023-11-06T06:03:35.143616Z"
    },
    "papermill": {
     "duration": 0.044914,
     "end_time": "2023-11-06T06:03:35.147190",
     "exception": false,
     "start_time": "2023-11-06T06:03:35.102276",
     "status": "completed"
    },
    "tags": []
   },
   "outputs": [],
   "source": [
    "import pandas as pd \n",
    "df = pd.DataFrame({'company':0,'diameter':14.0,'topping':9,'variant':8,'size':4,'extra_sauce':1,'extra_cheese':0,'extra_mushrooms':0},index=[3])"
   ]
  },
  {
   "cell_type": "code",
   "execution_count": 60,
   "id": "5977a8ff",
   "metadata": {
    "execution": {
     "iopub.execute_input": "2023-11-06T06:03:35.213946Z",
     "iopub.status.busy": "2023-11-06T06:03:35.213103Z",
     "iopub.status.idle": "2023-11-06T06:03:35.227679Z",
     "shell.execute_reply": "2023-11-06T06:03:35.226295Z"
    },
    "papermill": {
     "duration": 0.050958,
     "end_time": "2023-11-06T06:03:35.230171",
     "exception": false,
     "start_time": "2023-11-06T06:03:35.179213",
     "status": "completed"
    },
    "tags": []
   },
   "outputs": [
    {
     "data": {
      "text/html": [
       "<div>\n",
       "<style scoped>\n",
       "    .dataframe tbody tr th:only-of-type {\n",
       "        vertical-align: middle;\n",
       "    }\n",
       "\n",
       "    .dataframe tbody tr th {\n",
       "        vertical-align: top;\n",
       "    }\n",
       "\n",
       "    .dataframe thead th {\n",
       "        text-align: right;\n",
       "    }\n",
       "</style>\n",
       "<table border=\"1\" class=\"dataframe\">\n",
       "  <thead>\n",
       "    <tr style=\"text-align: right;\">\n",
       "      <th></th>\n",
       "      <th>company</th>\n",
       "      <th>diameter</th>\n",
       "      <th>topping</th>\n",
       "      <th>variant</th>\n",
       "      <th>size</th>\n",
       "      <th>extra_sauce</th>\n",
       "      <th>extra_cheese</th>\n",
       "      <th>extra_mushrooms</th>\n",
       "    </tr>\n",
       "  </thead>\n",
       "  <tbody>\n",
       "    <tr>\n",
       "      <th>3</th>\n",
       "      <td>0</td>\n",
       "      <td>14.0</td>\n",
       "      <td>9</td>\n",
       "      <td>8</td>\n",
       "      <td>4</td>\n",
       "      <td>1</td>\n",
       "      <td>0</td>\n",
       "      <td>0</td>\n",
       "    </tr>\n",
       "  </tbody>\n",
       "</table>\n",
       "</div>"
      ],
      "text/plain": [
       "   company  diameter  topping  variant  size  extra_sauce  extra_cheese  \\\n",
       "3        0      14.0        9        8     4            1             0   \n",
       "\n",
       "   extra_mushrooms  \n",
       "3                0  "
      ]
     },
     "execution_count": 60,
     "metadata": {},
     "output_type": "execute_result"
    }
   ],
   "source": [
    "df"
   ]
  },
  {
   "cell_type": "code",
   "execution_count": 61,
   "id": "c3ef982e",
   "metadata": {
    "execution": {
     "iopub.execute_input": "2023-11-06T06:03:35.296964Z",
     "iopub.status.busy": "2023-11-06T06:03:35.295884Z",
     "iopub.status.idle": "2023-11-06T06:03:35.306298Z",
     "shell.execute_reply": "2023-11-06T06:03:35.305001Z"
    },
    "papermill": {
     "duration": 0.046117,
     "end_time": "2023-11-06T06:03:35.308626",
     "exception": false,
     "start_time": "2023-11-06T06:03:35.262509",
     "status": "completed"
    },
    "tags": []
   },
   "outputs": [
    {
     "data": {
      "text/plain": [
       "array([658.16684816])"
      ]
     },
     "execution_count": 61,
     "metadata": {},
     "output_type": "execute_result"
    }
   ],
   "source": [
    "result=lr.predict(df)\n",
    "result"
   ]
  },
  {
   "cell_type": "markdown",
   "id": "8b238b3b",
   "metadata": {
    "papermill": {
     "duration": 0.031982,
     "end_time": "2023-11-06T06:03:35.373054",
     "exception": false,
     "start_time": "2023-11-06T06:03:35.341072",
     "status": "completed"
    },
    "tags": []
   },
   "source": []
  }
 ],
 "metadata": {
  "kernelspec": {
   "display_name": "Python 3",
   "language": "python",
   "name": "python3"
  },
  "language_info": {
   "codemirror_mode": {
    "name": "ipython",
    "version": 3
   },
   "file_extension": ".py",
   "mimetype": "text/x-python",
   "name": "python",
   "nbconvert_exporter": "python",
   "pygments_lexer": "ipython3",
   "version": "3.10.12"
  },
  "papermill": {
   "default_parameters": {},
   "duration": 16.32948,
   "end_time": "2023-11-06T06:03:36.127137",
   "environment_variables": {},
   "exception": null,
   "input_path": "__notebook__.ipynb",
   "output_path": "__notebook__.ipynb",
   "parameters": {},
   "start_time": "2023-11-06T06:03:19.797657",
   "version": "2.4.0"
  }
 },
 "nbformat": 4,
 "nbformat_minor": 5
}
