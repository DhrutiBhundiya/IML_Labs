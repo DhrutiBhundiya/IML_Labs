{
 "cells": [
  {
   "cell_type": "code",
   "execution_count": 1,
   "id": "1030b582",
   "metadata": {
    "execution": {
     "iopub.execute_input": "2023-11-06T06:02:33.817480Z",
     "iopub.status.busy": "2023-11-06T06:02:33.816790Z",
     "iopub.status.idle": "2023-11-06T06:02:35.969142Z",
     "shell.execute_reply": "2023-11-06T06:02:35.968040Z"
    },
    "papermill": {
     "duration": 2.158927,
     "end_time": "2023-11-06T06:02:35.971900",
     "exception": false,
     "start_time": "2023-11-06T06:02:33.812973",
     "status": "completed"
    },
    "tags": []
   },
   "outputs": [
    {
     "name": "stdout",
     "output_type": "stream",
     "text": [
      "Accuracy of the K-NN classifier with k=3: 100.00%\n"
     ]
    }
   ],
   "source": [
    "#Dhruti Bhundiya\n",
    "#216270307088\n",
    "# Write a Python program to implement K-Nearest Neighbour supervised\n",
    "from sklearn import datasets\n",
    "from sklearn.model_selection import train_test_split\n",
    "from sklearn.neighbors import KNeighborsClassifier\n",
    "from sklearn.metrics import accuracy_score\n",
    "iris = datasets.load_iris()\n",
    "X = iris.data  \n",
    "y = iris.target  \n",
    "X_train, X_test, y_train, y_test = train_test_split(X, y, test_size=0.2, random_state=42)\n",
    "k = 3  \n",
    "knn_classifier = KNeighborsClassifier(n_neighbors=k)\n",
    "knn_classifier.fit(X_train, y_train)\n",
    "y_pred = knn_classifier.predict(X_test)\n",
    "accuracy = accuracy_score(y_test, y_pred)\n",
    "print(f\"Accuracy of the K-NN classifier with k={k}: {accuracy * 100:.2f}%\")"
   ]
  },
  {
   "cell_type": "code",
   "execution_count": null,
   "id": "c6a12755",
   "metadata": {
    "papermill": {
     "duration": 0.004009,
     "end_time": "2023-11-06T06:02:35.977770",
     "exception": false,
     "start_time": "2023-11-06T06:02:35.973761",
     "status": "completed"
    },
    "tags": []
   },
   "outputs": [],
   "source": []
  }
 ],
 "metadata": {
  "kernelspec": {
   "display_name": "Python 3",
   "language": "python",
   "name": "python3"
  },
  "language_info": {
   "codemirror_mode": {
    "name": "ipython",
    "version": 3
   },
   "file_extension": ".py",
   "mimetype": "text/x-python",
   "name": "python",
   "nbconvert_exporter": "python",
   "pygments_lexer": "ipython3",
   "version": "3.10.12"
  },
  "papermill": {
   "default_parameters": {},
   "duration": 5.366265,
   "end_time": "2023-11-06T06:02:36.098766",
   "environment_variables": {},
   "exception": null,
   "input_path": "__notebook__.ipynb",
   "output_path": "__notebook__.ipynb",
   "parameters": {},
   "start_time": "2023-11-06T06:02:30.732501",
   "version": "2.4.0"
  }
 },
 "nbformat": 4,
 "nbformat_minor": 5
}
